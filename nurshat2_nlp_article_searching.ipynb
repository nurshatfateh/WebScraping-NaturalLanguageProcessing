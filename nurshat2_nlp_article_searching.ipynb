{
  "nbformat": 4,
  "nbformat_minor": 0,
  "metadata": {
    "colab": {
      "name": "nurshat2_nlp_article_searching.ipynb",
      "provenance": [],
      "authorship_tag": "ABX9TyMuVVJ7OEIMLVXYNHuXXTeP",
      "include_colab_link": true
    },
    "kernelspec": {
      "name": "python3",
      "display_name": "Python 3"
    },
    "language_info": {
      "name": "python"
    }
  },
  "cells": [
    {
      "cell_type": "markdown",
      "metadata": {
        "id": "view-in-github",
        "colab_type": "text"
      },
      "source": [
        "<a href=\"https://colab.research.google.com/github/nurshatfateh/WebScraping-NLP/blob/main/nurshat2_nlp_article_searching.ipynb\" target=\"_parent\"><img src=\"https://colab.research.google.com/assets/colab-badge.svg\" alt=\"Open In Colab\"/></a>"
      ]
    },
    {
      "cell_type": "markdown",
      "source": [
        "DESCRIPTION: Using newscatcher to collect specific topic related articles from a news website."
      ],
      "metadata": {
        "id": "qCErCP94G0Fp"
      }
    },
    {
      "cell_type": "code",
      "source": [
        "pip install newscatcher --upgrade"
      ],
      "metadata": {
        "colab": {
          "base_uri": "https://localhost:8080/"
        },
        "id": "nCY8UUPkFVKy",
        "outputId": "93a19ac5-d15a-4808-aa3c-0cfeeaccaee5"
      },
      "execution_count": null,
      "outputs": [
        {
          "output_type": "stream",
          "name": "stdout",
          "text": [
            "Looking in indexes: https://pypi.org/simple, https://us-python.pkg.dev/colab-wheels/public/simple/\n",
            "Collecting newscatcher\n",
            "  Downloading newscatcher-0.2.0-py3-none-any.whl (138 kB)\n",
            "\u001b[K     |████████████████████████████████| 138 kB 6.9 MB/s \n",
            "\u001b[?25hCollecting tldextract<3.0.0,>=2.2.2\n",
            "  Downloading tldextract-2.2.3-py2.py3-none-any.whl (48 kB)\n",
            "\u001b[K     |████████████████████████████████| 48 kB 7.0 MB/s \n",
            "\u001b[?25hRequirement already satisfied: requests<3.0.0,>=2.23.0 in /usr/local/lib/python3.7/dist-packages (from newscatcher) (2.23.0)\n",
            "Collecting feedparser<6.0.0,>=5.2.1\n",
            "  Downloading feedparser-5.2.1.zip (1.2 MB)\n",
            "\u001b[K     |████████████████████████████████| 1.2 MB 69.0 MB/s \n",
            "\u001b[?25hRequirement already satisfied: urllib3!=1.25.0,!=1.25.1,<1.26,>=1.21.1 in /usr/local/lib/python3.7/dist-packages (from requests<3.0.0,>=2.23.0->newscatcher) (1.24.3)\n",
            "Requirement already satisfied: idna<3,>=2.5 in /usr/local/lib/python3.7/dist-packages (from requests<3.0.0,>=2.23.0->newscatcher) (2.10)\n",
            "Requirement already satisfied: certifi>=2017.4.17 in /usr/local/lib/python3.7/dist-packages (from requests<3.0.0,>=2.23.0->newscatcher) (2022.6.15)\n",
            "Requirement already satisfied: chardet<4,>=3.0.2 in /usr/local/lib/python3.7/dist-packages (from requests<3.0.0,>=2.23.0->newscatcher) (3.0.4)\n",
            "Collecting requests-file>=1.4\n",
            "  Downloading requests_file-1.5.1-py2.py3-none-any.whl (3.7 kB)\n",
            "Requirement already satisfied: six in /usr/local/lib/python3.7/dist-packages (from requests-file>=1.4->tldextract<3.0.0,>=2.2.2->newscatcher) (1.15.0)\n",
            "Building wheels for collected packages: feedparser\n",
            "  Building wheel for feedparser (setup.py) ... \u001b[?25l\u001b[?25hdone\n",
            "  Created wheel for feedparser: filename=feedparser-5.2.1-py3-none-any.whl size=44952 sha256=4c813d7061a07749466f1a100987a351e56f6c070854440decb132fac3034034\n",
            "  Stored in directory: /root/.cache/pip/wheels/29/bf/46/b4a597d435d3aee6c2fa583824897336d65abf13ebe3405b70\n",
            "Successfully built feedparser\n",
            "Installing collected packages: requests-file, tldextract, feedparser, newscatcher\n",
            "Successfully installed feedparser-5.2.1 newscatcher-0.2.0 requests-file-1.5.1 tldextract-2.2.3\n"
          ]
        }
      ]
    },
    {
      "cell_type": "code",
      "source": [
        "from newscatcher import Newscatcher"
      ],
      "metadata": {
        "id": "mqbuqQAPF7ST"
      },
      "execution_count": null,
      "outputs": []
    },
    {
      "cell_type": "code",
      "source": [
        "nc=Newscatcher(website='nytimes.com')"
      ],
      "metadata": {
        "id": "3rmM50JSGK1a"
      },
      "execution_count": null,
      "outputs": []
    },
    {
      "cell_type": "code",
      "source": [
        "results=nc.get_news()"
      ],
      "metadata": {
        "id": "sApfFV_WGMO-"
      },
      "execution_count": null,
      "outputs": []
    },
    {
      "cell_type": "code",
      "source": [
        "results.keys()"
      ],
      "metadata": {
        "colab": {
          "base_uri": "https://localhost:8080/"
        },
        "id": "-V5CuKrtGWzQ",
        "outputId": "495e2bbf-6d63-42be-eae4-da26cab7d4af"
      },
      "execution_count": null,
      "outputs": [
        {
          "output_type": "execute_result",
          "data": {
            "text/plain": [
              "dict_keys(['url', 'topic', 'language', 'country', 'articles'])"
            ]
          },
          "metadata": {},
          "execution_count": 23
        }
      ]
    },
    {
      "cell_type": "code",
      "source": [
        "articles=results['articles']"
      ],
      "metadata": {
        "id": "SAetsLLFGk4z"
      },
      "execution_count": null,
      "outputs": []
    },
    {
      "cell_type": "code",
      "source": [
        "print(articles[0])"
      ],
      "metadata": {
        "colab": {
          "base_uri": "https://localhost:8080/"
        },
        "id": "fOEXgVVDQkY0",
        "outputId": "1d63f279-601c-4f27-8746-2de6351c4ea4"
      },
      "execution_count": null,
      "outputs": [
        {
          "output_type": "stream",
          "name": "stdout",
          "text": [
            "{'title': 'Ukraine Live Updates: Demand for Russian Oil Surges in Asia, Blunting Effect of Sanctions', 'title_detail': {'type': 'text/plain', 'language': None, 'base': 'https://rss.nytimes.com/services/xml/rss/nyt/World.xml', 'value': 'Ukraine Live Updates: Demand for Russian Oil Surges in Asia, Blunting Effect of Sanctions'}, 'links': [{'rel': 'alternate', 'type': 'text/html', 'href': 'https://www.nytimes.com/live/2022/06/21/world/russia-ukraine-war-news'}, {'href': 'https://www.nytimes.com/live/2022/06/21/world/russia-ukraine-war-news', 'rel': 'standout', 'type': 'text/html'}], 'link': 'https://www.nytimes.com/live/2022/06/21/world/russia-ukraine-war-news', 'id': 'https://www.nytimes.com/live/2022/06/21/world/russia-ukraine-war-news', 'guidislink': False, 'summary': 'China and India are snapping up Russian crude, bolstering Moscow’s economy. In Ukraine, officials urged civilians to flee the Russian-occupied south before a potential counteroffensive, but challenges loom.', 'summary_detail': {'type': 'text/html', 'language': None, 'base': 'https://rss.nytimes.com/services/xml/rss/nyt/World.xml', 'value': 'China and India are snapping up Russian crude, bolstering Moscow’s economy. In Ukraine, officials urged civilians to flee the Russian-occupied south before a potential counteroffensive, but challenges loom.'}, 'authors': [{'name': 'The New York Times'}], 'author': 'The New York Times', 'author_detail': {'name': 'The New York Times'}, 'published': 'Tue, 21 Jun 2022 16:43:00 +0000', 'published_parsed': time.struct_time(tm_year=2022, tm_mon=6, tm_mday=21, tm_hour=16, tm_min=43, tm_sec=0, tm_wday=1, tm_yday=172, tm_isdst=0), 'media_content': [{'height': '151', 'medium': 'image', 'url': 'https://static01.nyt.com/images/2022/06/20/world/21ukraine-briefing-promo/merlin_208854447_08bfdd27-1986-4c5c-a671-ee50af7bb092-moth.jpg', 'width': '151'}], 'media_credit': [{'content': 'Tyler Hicks/The New York Times'}], 'credit': 'Tyler Hicks/The New York Times'}\n"
          ]
        }
      ]
    },
    {
      "cell_type": "code",
      "source": [
        "first_article_title=articles[0]['title']\n",
        "print(first_article_title)\n"
      ],
      "metadata": {
        "colab": {
          "base_uri": "https://localhost:8080/"
        },
        "id": "XSY5ONSBGr15",
        "outputId": "0592a4a5-2e61-4d92-ebdf-a1d92b67d252"
      },
      "execution_count": null,
      "outputs": [
        {
          "output_type": "stream",
          "name": "stdout",
          "text": [
            "Head of State Police Calls Response to Uvalde Shooting an ‘Abject Failure’\n"
          ]
        }
      ]
    },
    {
      "cell_type": "code",
      "source": [
        "first_article_summary=articles[0]['summary']\n",
        "print(first_article_summary)\n"
      ],
      "metadata": {
        "colab": {
          "base_uri": "https://localhost:8080/"
        },
        "id": "F-vyzhMaHp-l",
        "outputId": "8eee93c9-8476-4d50-a6a7-15f8cf374e96"
      },
      "execution_count": null,
      "outputs": [
        {
          "output_type": "stream",
          "name": "stdout",
          "text": [
            "The director of the Department of Public Safety said that police officers wasted time looking for a classroom door key that was “never needed.”\n"
          ]
        }
      ]
    },
    {
      "cell_type": "code",
      "source": [
        "from newscatcher import describe_url\n",
        "describe=describe_url('nytimes.com')\n",
        "print(describe['topics'])"
      ],
      "metadata": {
        "colab": {
          "base_uri": "https://localhost:8080/"
        },
        "id": "thsUSGzoPDfk",
        "outputId": "04c9f0cf-cf8d-4666-bd62-39805aa5aeeb"
      },
      "execution_count": null,
      "outputs": [
        {
          "output_type": "stream",
          "name": "stdout",
          "text": [
            "['world', 'travel', 'tech', 'science', 'politics', 'news', 'food', 'finance', 'business']\n"
          ]
        }
      ]
    },
    {
      "cell_type": "code",
      "source": [
        "nc=Newscatcher(website='nytimes.com', topic='tech')\n",
        "results=nc.get_news()\n",
        "articles=results['articles']\n",
        "second_article_title=articles[1]['title']\n",
        "print(second_article_title)"
      ],
      "metadata": {
        "colab": {
          "base_uri": "https://localhost:8080/"
        },
        "id": "cIBf2jGuJgX_",
        "outputId": "9abbd3d1-6bfa-4398-cf97-d23b43067bd9"
      },
      "execution_count": null,
      "outputs": [
        {
          "output_type": "stream",
          "name": "stdout",
          "text": [
            "Microsoft Plans to Eliminate Face Analysis Tools in Push for ‘Responsible A.I.’\n"
          ]
        }
      ]
    },
    {
      "cell_type": "code",
      "source": [
        "nc=Newscatcher(website='nytimes.com', topic='world')\n",
        "results=nc.get_news()\n",
        "articles=results['articles']\n",
        "third_article_title=articles[2]['title']\n",
        "print(third_article_title)\n",
        "third_article_summary=articles[2]['summary']\n",
        "print(third_article_summary)"
      ],
      "metadata": {
        "colab": {
          "base_uri": "https://localhost:8080/"
        },
        "id": "_fjImRdZO6Bg",
        "outputId": "5d421070-ff9b-44de-ca39-3c83f51396f4"
      },
      "execution_count": null,
      "outputs": [
        {
          "output_type": "stream",
          "name": "stdout",
          "text": [
            "Israel’s Government Collapses, Setting Up 5th Election in 3 Years\n",
            "The governing coalition decided to dissolve Parliament, plunging the country back into paralysis and throwing a political lifeline to Benjamin Netanyahu.\n"
          ]
        }
      ]
    },
    {
      "cell_type": "code",
      "source": [
        "from newscatcher import urls\n",
        "tech_websites=urls(topic='tech')\n",
        "print(tech_websites)"
      ],
      "metadata": {
        "colab": {
          "base_uri": "https://localhost:8080/"
        },
        "id": "g80CS7HBLqgz",
        "outputId": "1dd2b76b-bcb6-45bc-e1cb-d418242b0f15"
      },
      "execution_count": null,
      "outputs": [
        {
          "output_type": "stream",
          "name": "stdout",
          "text": [
            "['facebook.com', 'twitter.com', 'qq.com', 'theguardian.com', 'cnet.com', 'wired.com', 'techcrunch.com', 'digg.com', 'samsung.com', 'theverge.com', 'mashable.com', 'zdnet.com', 'engadget.com', 'businesswire.com', 'gizmodo.com', 'lifehacker.com', 'utoronto.ca', 'eff.org', 'theregister.co.uk', 'pcworld.com', 'prweb.com', 'acm.org', 'naver.com', 'techradar.com', 'ndtv.com', 'boingboing.net', 'zol.com.cn', 'popularmechanics.com', 'crunchbase.com', 'heise.de', 'csdn.net', 'ycombinator.com', 'macrumors.com', 'cio.com', 'gigaom.com', 'ibtimes.co.uk', 'networkworld.com', 'extremetech.com', 'windows.com', 'dailydot.com', 'gsmarena.com', 'anandtech.com', 'slashgear.com', 'computerweekly.com', 'betanews.com', 'impress.co.jp', 'techdirt.com', 'houstonchronicle.com', 'techtimes.com', 'androidcentral.com', 'techspot.com', 'infoq.com', 'elconfidencial.com', 'macmillan.com', '36kr.com', 'chip.de', 'windowscentral.com', 'neowin.net', 'phonearena.com', 'fnac.com', 'tmcnet.com', 'pocket-lint.com', 'cbinsights.com', 'lapresse.ca', 'ubergizmo.com', 'theiet.org', 'itmedia.co.jp', 'golem.de', 'thewirecutter.com', 'gizmodo.com.au', 'nerdist.com', 'itworld.com', 'internetsociety.org', 'themarysue.com', 'techweb.com.cn', 'laptopmag.com', 'wccftech.com', 'globes.co.il', 'cnews.ru', 'ghacks.net', 'singularityhub.com', 'computing.co.uk', 'journaldunet.com', 'huxiu.com', 'interestingengineering.com', 'sammobile.com', '01net.com', 'leiphone.com', 'notebookcheck.net', '3dnews.ru', 'guru3d.com', 'techhive.com', 'webry.info', 'hothardware.com', 'siliconangle.com', 'tweakers.net', 'information-age.com', 'ibtimes.co.in', 'elon.edu', 'tech.co', 'technewsworld.com', 'itpro.co.uk', 'itnews.com.au', 'lifehacker.com.au', 'cbronline.com', 'winfuture.de', 'datacenterknowledge.com', 'bit-tech.net', 'nextgov.com', 'numerama.com', 'osnews.com', 'gcn.com', 'tmtpost.com', 'afterdawn.com', 'globalspec.com', 'ifanr.com', 'wired.it', 'wareable.com', 'zdnet.fr', 'privateinternetaccess.com', 'cheddar.com', 'hexus.net', 'di.se', 'mybroadband.co.za', 'computerwoche.de', 'komando.com', 'expertreviews.co.uk', 'techtudo.com.br', 'fiercewireless.com', 'stuff.tv', 'mobile-review.com', 'lesnumeriques.com', 'idg.se', 'thurrott.com', 'techxplore.com', 'gizchina.com', 'origo.hu', 'bitrebels.com', 'nextinpact.com', 'ferra.ru', 'mobilesyrup.com', 'popmech.ru', 'idg.com.au', 'developpez.com', 'itworldcanada.com', 'genbeta.com', 'verdict.co.uk', 'webfoundation.org', 'bgr.in', 'businesstech.co.za', 'diginomica.com', 'streamingmedia.com', 'cnetfrance.fr', 'overclockers.ru', 'futurezone.at', 'itc.ua', 'itbusiness.ca', 'betakit.com', 'usine-digitale.fr', 'vator.tv', 'teltarif.de', 'arnnet.com.au', 'lemondeinformatique.fr', 'wired.jp', 'ithome.com.tw', 'korben.info', 'stadt-bremerhaven.de', 'circleid.com', 'twice.com', 'wwwhatsnew.com', 'gpsworld.com', 'bug.hr', 'tech.eu', 'olhardigital.com.br', 'hwupgrade.it', 'hardwareluxx.de', 'dobreprogramy.pl', 'cloudwards.net', 'silicon.fr', 'inews24.com', 'whatech.com', 'bnext.com.tw', 'ingenieur.de', 'notebookcheck.com', 'itnewsafrica.com', 'ispreview.co.uk', 'zive.cz', 'xatakamovil.com', 'windowslatest.com', 'silicon.de', 'gizbot.com', 'itespresso.fr', 'crn.com.au', 'geekzone.co.nz', 'connect.de', 'knowtechie.com', 'overclockersclub.com', 'macitynet.it', 'nocamels.com', 'benchmark.pl', 'roem.ru', 'webtekno.com', 'pclab.pl', 'alleywatch.com', 'digitalnewsasia.com', 'xatakandroid.com', 'get.com', 'corrierecomunicazioni.it', 'genk.vn', 'lupa.cz', 'nerdreactor.com', 'korea.com', 'curved.de', 'begeek.fr', 'eprice.com.tw', 'dday.it', 'areamobile.de', 'androidworld.it', 'techshout.com', 'hitek.fr', 'semiengineering.com', 'antyweb.pl', 'computerworld.com.br', 'channelweb.co.uk', 'gagadget.com', 'ddaily.co.kr', 'breakit.se', 'themobileindian.com', 'com-magazin.de', 'digi.no', 'notebookitalia.it', 'chip.com.tr', 'tamindir.com', 'iphoneitalia.com', 'tudocelular.com', 'chinaz.com', 'internetua.com', 'design-reuse.com', 'root.cz', 'freenews.fr', 'linformaticien.com', 'tweakpc.de', 'athinorama.gr', 'technadu.com', 'techzine.nl', 'goodgearguide.com.au', 'crn.de', 'techcabal.com', 'xataka.com.mx', 'hartware.de', 'socaltech.com', 'cowcotland.com', 'smartworld.it', 'purepc.pl', 'it-business.de', 'overclockers.ua', 'pcworld.co.nz', 'itforum365.com.br', 'laflecha.net', 'computerworld.pl', 'tech-wd.com', 'meiobit.com', 'version2.dk', 'muycomputerpro.com', 'uktech.news', 'pcweek.ua', 'itespresso.es', 'iafrikan.com', 'reseller.co.nz', 'aitnews.com', 'kbench.com', 'geekculture.co', 'windowsunited.de', 'w3sh.com', 'redusers.com', 'trendingtopics.at', 'hwsw.hu', 'ilsoftware.it', 'telepolis.pl', 'itmagazine.ch', 'telesintese.com.br', 'xatakahome.com', 'telix.pl', 'expert.com.ua', 'tabletowo.pl', 'svethardware.cz', 'eprice.com.hk', 'increment.com', 'ctovision.com', 'geektime.co.il', 'technopat.net', 'ictjournal.ch', 'distributique.com', 'pianetacellulare.it', 'pc.co.il', 'engineersonline.nl', 'tabletsmagazine.nl', 'techgoondu.com', 'innotechtoday.com', 'contxto.com', 'handy.de', 'pcfoster.pl', 'pcworld.hu', 'komorkomania.pl', 'pestaola.gr', 'amanz.my', 'unbox.ph', 'hup.hu', 'teknolojioku.com', 'newsledge.com', 'xatakawindows.com', 'computerworld.hu', 'canal-ar.com.ar', 'techgear.gr', 'pcprofessionale.it', 'directioninformatique.com', 'techpoint.org', 'mikrobitti.fi', 'pcworld.com.mx', 'servernews.ru', 'twojepc.pl', 'cellulare-magazine.it', '4gnews.pt', 'gsmmaniak.pl', 'maxicep.com', 'newsbytes.ph', 'itreseller.ch', 'inferse.com', 'stuff.co.za', 'ridble.com', 'hwzone.co.il', 'computerworld.cz', 'francemobiles.com', 'fabio.com.ar', 'vidi.hr', 'tabletmonkeys.com', 'osnews.pl', 'whatnext.pl', 'hdtvpolska.com', 'webtrek.it', 'technowize.com', 'winmagpro.nl', 'ohmygeek.net', 'ehmac.ca', 'informaticien.be', 'gadgetsmagazine.com.ph', 'astel.be', 'pcworld.cz', 'tablety.pl', 'eloutput.com', 'pcguia.pt', 'thetechportal.in', 'in4.pl', 'altadensidad.com', 'jcs.org', 'technieuws.com', 'g-rafa.co.il', 'businessworld.cz', 'culturageek.com.ar', 'monitor.si', 'telefonino.net', 'wearemobians.com', 'tecnologia.libero.it', 'tech.wp.pl', 'tech.fanpage.it', 'tailscale.com', 'tablethype.de', 'qiibo.com', 'pplware.sapo.pt', 'mreza.bug.hr', 'mobtech.interia.pl', 'hi-tech.mail.ru', 'geeko.lesoir.be', 'donanimgunlugu.com', 'computersweden.idg.se', 'channelworld.cz']\n"
          ]
        }
      ]
    },
    {
      "cell_type": "code",
      "source": [
        "nc=Newscatcher(website='nytimes.com', topic='world')\n",
        "results=nc.get_headlines()\n",
        "print(results)\n"
      ],
      "metadata": {
        "colab": {
          "base_uri": "https://localhost:8080/"
        },
        "id": "HfVxCLE3PgLs",
        "outputId": "ee1a6271-391e-4c10-f919-143b93029bba"
      },
      "execution_count": null,
      "outputs": [
        {
          "output_type": "stream",
          "name": "stdout",
          "text": [
            "['Ukraine Live Updates: Demand for Russian Oil Surges in Asia, Blunting Effect of Sanctions', 'China’s Surveillance State Is Growing. These Documents Reveal How.', 'Israel’s Government Collapses, Setting Up 5th Election in 3 Years', 'Gustavo Petro Promised to Transform Colombia as President. Can He Do It?', 'China’s Expanding Surveillance State: Takeaways From a NYT Investigation', 'In Ukraine, One Woman’s Shopping Trip Over the Last Bridge in Lysychansk', 'Libyans Try to Move On From Conflict With Comedy and Burgers', 'S\\u200bouth Korea Launches Satellite With Its Own Rocket for the First Time', 'Australian Judge Delays Brittany Higgins Rape Trial', 'U.K. Hobbled By Largest Railway Strike in Three Decades', 'Jumbo, Hong Kong’s Floating Restaurant, Sinks After Capsizing', 'The Killing of Shireen Abu Akleh: Tracing a Bullet to an Israeli Convoy', '132 Civilians Killed by Rebel Attacks in Central Mali, Government Says', 'Ruinous Flooding in India and Bangladesh Kills at Least 116', 'Documenta Takes Down Art After Antisemitism Accusations', 'Merrick Garland Visits Ukraine to Discuss Russian War Crimes', 'The Painful Path to Fight Inflation', 'Chinese Omicron Study Renews Debate Over ‘Zero Covid’ Policy', 'Finding Traces of Harriet Tubman on Maryland’s Eastern Shore', '1972: A 36-Day Hunger Strike Ends in Northern Ireland', 'Young U.S. Children Will Start Getting Vaccines, Though Hurdles Remain', 'Your Tuesday Briefing', 'U.S. Officials Predict Path of War in Ukraine', 'Russian Journalist’s Nobel Medal Sells for $103.5 Million', 'Russia’s Blockade of Ukraine Is ‘War Crime,’ Top E.U. Official Says', '‘We Are Not Safe’: Ethiopians Flee Massacre That Killed Hundreds', 'Kremlin Calls Captured Americans ‘Soldiers of Fortune’', 'Your Tuesday Briefing: Israel’s Governing Coalition Collapses', 'The Mystery of Fleet Street: An Article on Boris Johnson Vanishes', 'EU Calls Russia’s Blockade of Ukranian Grain a War Crime', '5 British Men Released by Taliban as U.K. Expresses Regret', 'Israel Confirms Regional Military Project, Showing Its Growing Role', 'Russia steps up bombardments of Kharkiv, where Ukraine had pushed back its forces.', 'Grenfell Tower Still Stands. So Do Questions About What to Do With It.', 'Hear the stories of Ukrainians who were forcibly resettled to Russia and escaped.', 'Russia becomes China’s biggest crude-oil supplier as Europe cuts imports.', 'A Fragmented Parliament Brings Macron Back Down to Earth', 'A Wildfire Year', 'A Herd in Exile: Riding Horses on Mozambique’s Bazaruto Archipelago', 'Red Flags for Forced Labor Found in China’s Car Battery Supply Chain', 'A new brand of activist takes aim at the Ukraine war and the climate crisis, together.', 'Surviving Russia’s ‘Filtration Camps’', 'New Brand of Activist Takes Aim at Ukraine War and Climate Crisis, Together', 'Your Monday Briefing', 'Gustavo Petro Wins the Election, Becoming Colombia’s First Leftist Leader', 'Ukraine Bans Some Russian Music and Books', 'Macron Loses Absolute Majority in Parliament as Opposition Surges', 'Before He Ran for President, Gustavo Petro Was a Guerrilla Fighter', 'Paul Haggis Arrested on Sexual Assault Charges in Italy', 'Your Monday Briefing: Russia Makes Slow Gains in the Donbas Region', 'Russian Forces Tighten Noose Around Important Cities in Ukraine’s East', 'Children of Ukraine’s Fallen Soldiers Spend Father’s Day in New Grief', 'Over 200 Feared Dead in Ethiopia Massacre', 'Ukraine rushes troops to reinforce its faltering defense of Sievierodonetsk.', 'Francia Márquez Has Just Become Colombia’s First Black Vice President', 'FINA Restricts Transgender Women From Competing at Elite Level', 'France’s Far Right Wins Record Number of Seats in Parliament', 'Establishment conservatives quickly aligned with Hernández after his unexpected second-place win.', 'Germany Says It Will Restart Coal Power Plants to Save Natural Gas', 'Scenes from the polls as Rodolfo Hernández and Gustavo Petro cast their ballots.', 'As the Colombian presidential race tightens, the two candidates turn up their attacks.', 'The ‘Hard Yakka’ of Defining Australian English’s Many Quirks']\n"
          ]
        }
      ]
    },
    {
      "cell_type": "code",
      "source": [
        ""
      ],
      "metadata": {
        "id": "Xdburp5NPvrE"
      },
      "execution_count": null,
      "outputs": []
    }
  ]
}