{
  "nbformat": 4,
  "nbformat_minor": 0,
  "metadata": {
    "colab": {
      "provenance": [],
      "authorship_tag": "ABX9TyNJ7Cc14lmTi6z2z5VwcR7z",
      "include_colab_link": true
    },
    "kernelspec": {
      "name": "python3",
      "display_name": "Python 3"
    },
    "language_info": {
      "name": "python"
    }
  },
  "cells": [
    {
      "cell_type": "markdown",
      "metadata": {
        "id": "view-in-github",
        "colab_type": "text"
      },
      "source": [
        "<a href=\"https://colab.research.google.com/github/nurshatfateh/WebScraping-NaturalLanguageProcessing/blob/main/trail3.ipynb\" target=\"_parent\"><img src=\"https://colab.research.google.com/assets/colab-badge.svg\" alt=\"Open In Colab\"/></a>"
      ]
    },
    {
      "cell_type": "code",
      "execution_count": null,
      "metadata": {
        "id": "JKizfqFtqq6L"
      },
      "outputs": [],
      "source": [
        "import pandas as pd\n",
        "import spacy\n",
        "from spacy.matcher import Matcher"
      ]
    },
    {
      "cell_type": "code",
      "source": [
        "!pip install newspaper3k"
      ],
      "metadata": {
        "colab": {
          "base_uri": "https://localhost:8080/"
        },
        "id": "BtDu1K4dqua3",
        "outputId": "f8e7d267-fdf4-4a33-9ec8-8bf81169a9d2"
      },
      "execution_count": null,
      "outputs": [
        {
          "output_type": "stream",
          "name": "stdout",
          "text": [
            "Looking in indexes: https://pypi.org/simple, https://us-python.pkg.dev/colab-wheels/public/simple/\n",
            "Requirement already satisfied: newspaper3k in /usr/local/lib/python3.7/dist-packages (0.2.8)\n",
            "Requirement already satisfied: tinysegmenter==0.3 in /usr/local/lib/python3.7/dist-packages (from newspaper3k) (0.3)\n",
            "Requirement already satisfied: tldextract>=2.0.1 in /usr/local/lib/python3.7/dist-packages (from newspaper3k) (3.4.0)\n",
            "Requirement already satisfied: feedfinder2>=0.0.4 in /usr/local/lib/python3.7/dist-packages (from newspaper3k) (0.0.4)\n",
            "Requirement already satisfied: nltk>=3.2.1 in /usr/local/lib/python3.7/dist-packages (from newspaper3k) (3.7)\n",
            "Requirement already satisfied: Pillow>=3.3.0 in /usr/local/lib/python3.7/dist-packages (from newspaper3k) (7.1.2)\n",
            "Requirement already satisfied: beautifulsoup4>=4.4.1 in /usr/local/lib/python3.7/dist-packages (from newspaper3k) (4.6.3)\n",
            "Requirement already satisfied: requests>=2.10.0 in /usr/local/lib/python3.7/dist-packages (from newspaper3k) (2.23.0)\n",
            "Requirement already satisfied: cssselect>=0.9.2 in /usr/local/lib/python3.7/dist-packages (from newspaper3k) (1.2.0)\n",
            "Requirement already satisfied: jieba3k>=0.35.1 in /usr/local/lib/python3.7/dist-packages (from newspaper3k) (0.35.1)\n",
            "Requirement already satisfied: feedparser>=5.2.1 in /usr/local/lib/python3.7/dist-packages (from newspaper3k) (6.0.10)\n",
            "Requirement already satisfied: lxml>=3.6.0 in /usr/local/lib/python3.7/dist-packages (from newspaper3k) (4.9.1)\n",
            "Requirement already satisfied: python-dateutil>=2.5.3 in /usr/local/lib/python3.7/dist-packages (from newspaper3k) (2.8.2)\n",
            "Requirement already satisfied: PyYAML>=3.11 in /usr/local/lib/python3.7/dist-packages (from newspaper3k) (6.0)\n",
            "Requirement already satisfied: six in /usr/local/lib/python3.7/dist-packages (from feedfinder2>=0.0.4->newspaper3k) (1.15.0)\n",
            "Requirement already satisfied: sgmllib3k in /usr/local/lib/python3.7/dist-packages (from feedparser>=5.2.1->newspaper3k) (1.0.0)\n",
            "Requirement already satisfied: regex>=2021.8.3 in /usr/local/lib/python3.7/dist-packages (from nltk>=3.2.1->newspaper3k) (2022.6.2)\n",
            "Requirement already satisfied: tqdm in /usr/local/lib/python3.7/dist-packages (from nltk>=3.2.1->newspaper3k) (4.64.1)\n",
            "Requirement already satisfied: joblib in /usr/local/lib/python3.7/dist-packages (from nltk>=3.2.1->newspaper3k) (1.2.0)\n",
            "Requirement already satisfied: click in /usr/local/lib/python3.7/dist-packages (from nltk>=3.2.1->newspaper3k) (7.1.2)\n",
            "Requirement already satisfied: certifi>=2017.4.17 in /usr/local/lib/python3.7/dist-packages (from requests>=2.10.0->newspaper3k) (2022.9.24)\n",
            "Requirement already satisfied: idna<3,>=2.5 in /usr/local/lib/python3.7/dist-packages (from requests>=2.10.0->newspaper3k) (2.10)\n",
            "Requirement already satisfied: urllib3!=1.25.0,!=1.25.1,<1.26,>=1.21.1 in /usr/local/lib/python3.7/dist-packages (from requests>=2.10.0->newspaper3k) (1.24.3)\n",
            "Requirement already satisfied: chardet<4,>=3.0.2 in /usr/local/lib/python3.7/dist-packages (from requests>=2.10.0->newspaper3k) (3.0.4)\n",
            "Requirement already satisfied: filelock>=3.0.8 in /usr/local/lib/python3.7/dist-packages (from tldextract>=2.0.1->newspaper3k) (3.8.0)\n",
            "Requirement already satisfied: requests-file>=1.4 in /usr/local/lib/python3.7/dist-packages (from tldextract>=2.0.1->newspaper3k) (1.5.1)\n"
          ]
        }
      ]
    },
    {
      "cell_type": "code",
      "source": [
        "import newspaper\n",
        "from newspaper import Article"
      ],
      "metadata": {
        "id": "i6XaeEmnqvrY"
      },
      "execution_count": null,
      "outputs": []
    },
    {
      "cell_type": "code",
      "source": [
        "nlp = spacy.load('en_core_web_sm')"
      ],
      "metadata": {
        "id": "Vg42KjRyqx8f"
      },
      "execution_count": null,
      "outputs": []
    },
    {
      "cell_type": "code",
      "source": [
        "def extract_article_from_url(url):\n",
        "  a = Article(url)\n",
        "  a.download()\n",
        "  a.parse()\n",
        "  return a.text, a.publish_date\n"
      ],
      "metadata": {
        "id": "YS4MgEq6q0aH"
      },
      "execution_count": null,
      "outputs": []
    },
    {
      "cell_type": "code",
      "source": [
        "def sentence_giver(doc, start, end):\n",
        "  s = start\n",
        "  while str(doc[s]) != '.':\n",
        "    s = s - 1\n",
        "    if s < 0:\n",
        "      break\n",
        "  e = end\n",
        "  while str(doc[e]) != '.':\n",
        "    e = e + 1\n",
        "    if e > len(doc) - 1:\n",
        "      break\n",
        "  return str(doc[s+1:e])"
      ],
      "metadata": {
        "id": "nk3Aduwmq2Mo"
      },
      "execution_count": null,
      "outputs": []
    },
    {
      "cell_type": "code",
      "source": [
        "def location_finder(doc):\n",
        "  locations = []\n",
        "  sentences = []\n",
        "  matcher = Matcher(nlp.vocab)\n",
        "  pattern = [{\"ENT_TYPE\": \"GPE\"}]\n",
        "  matcher.add(\"Location\", [pattern])\n",
        "  matches = matcher(doc)\n",
        "  for match_id, start, end in matches:\n",
        "    sentence = sentence_giver(doc, start, end)\n",
        "    value = l_detail_filter(sentence)\n",
        "    if value == 1:\n",
        "      sentences.append(sentence)\n",
        "      locations.append(doc[start:end])\n",
        "  return locations, sentences\n",
        "\n",
        "def l_detail_filter(data):\n",
        "  data = nlp(data)\n",
        "  matcher = Matcher(nlp.vocab)\n",
        "  pattern1 = [{\"LEMMA\": \"accident\", \"POS\": \"VERB\"},{\"LOWER\": \"in\"}]\n",
        "  pattern2 = [{\"LEMMA\": \"die\", \"POS\": \"VERB\"},{\"LOWER\": \"in\"}]\n",
        "  pattern3 = [{\"LEMMA\": \"collide\", \"POS\": \"VERB\"},{\"LOWER\": \"in\"}]\n",
        "  pattern4 = [{\"LEMMA\": \"crash\", \"POS\": \"VERB\"},{\"LOWER\": \"in\"}]\n",
        "  pattern5 = [{\"LEMMA\": \"kill\", \"POS\": \"VERB\"},{\"LOWER\": \"in\"}]\n",
        "  pattern0 = [{\"LOWER\": \"in\"}]\n",
        "\n",
        "  matcher.add(\"N_Filter\", [pattern1])\n",
        "  matches = matcher(data)\n",
        "  if len(matches) != 0:\n",
        "    return 1\n",
        "  else:\n",
        "    matcher.add(\"N_Filter\", [pattern2])\n",
        "    matches = matcher(data)\n",
        "    if len(matches) != 0:\n",
        "      return 1\n",
        "    else:\n",
        "      matcher.add(\"N_Filter\", [pattern3])\n",
        "      matches = matcher(data)\n",
        "      if len(matches) != 0:\n",
        "        return 1\n",
        "      else:\n",
        "        matcher.add(\"N_Filter\", [pattern4])\n",
        "        matches = matcher(data)\n",
        "        if len(matches) != 0:\n",
        "          return 1\n",
        "        else:\n",
        "          matcher.add(\"N_Filter\", [pattern5])\n",
        "          matches = matcher(data)\n",
        "          if len(matches) != 0:\n",
        "            return 1\n",
        "          else:\n",
        "            matcher.add(\"N_Filter\", [pattern0])\n",
        "            matches = matcher(data)\n",
        "            if len(matches) != 0:\n",
        "              return 1\n",
        "            else:\n",
        "              return 0"
      ],
      "metadata": {
        "id": "Xm2ahHq3q3rR"
      },
      "execution_count": null,
      "outputs": []
    },
    {
      "cell_type": "code",
      "source": [
        "def number_finder(doc):\n",
        "  numbers = []\n",
        "  sentences = []\n",
        "  matcher = Matcher(nlp.vocab)\n",
        "  pattern = [{\"LIKE_NUM\": True}]\n",
        "  matcher.add(\"Number\", [pattern])\n",
        "  matches = matcher(doc)\n",
        "  for match_id, start, end in matches:\n",
        "    sentence = sentence_giver(doc, start, end)\n",
        "    value = n_detail_filter(sentence)\n",
        "    if value == 1:\n",
        "      sentences.append(sentence)\n",
        "      numbers.append(str(doc[start:end]))\n",
        "  return numbers, sentences\n",
        "\n",
        "def n_detail_filter(data):\n",
        "  data = nlp(data)\n",
        "  matcher = Matcher(nlp.vocab)\n",
        "  pattern1 = [{\"LEMMA\": \"kill\", \"POS\": \"VERB\"}]\n",
        "  pattern2 = [{\"LEMMA\": \"die\", \"POS\": \"VERB\"}]\n",
        "\n",
        "\n",
        "  matcher.add(\"N_Filter\", [pattern1])\n",
        "  matches = matcher(data)\n",
        "  if len(matches) != 0:\n",
        "    return 1\n",
        "  else:\n",
        "    matcher.add(\"N_Filter\", [pattern2])\n",
        "    matches = matcher(data)\n",
        "    if len(matches) != 0:\n",
        "      return 1\n",
        "    else:\n",
        "      return 0\n",
        "        \n",
        "    "
      ],
      "metadata": {
        "id": "GNaKKCoTq5OH"
      },
      "execution_count": null,
      "outputs": []
    },
    {
      "cell_type": "code",
      "source": [
        "loc=[]\n",
        "dea=[]\n",
        "veh1=[]\n",
        "veh2=[]\n",
        "veh3=[]\n",
        "dat=[]\n",
        "  "
      ],
      "metadata": {
        "id": "f0RSXKvlVgEh"
      },
      "execution_count": null,
      "outputs": []
    },
    {
      "cell_type": "code",
      "source": [
        "link = 'https://www.ndtv.com/india-news/2-cops-killed-as-speeding-truck-hits-bike-in-bihar-3472041'\n",
        "content, date = extract_article_from_url(link)\n",
        "doc = nlp(content)\n",
        "\n",
        "\n",
        "l_places, l_s = location_finder(doc)\n",
        "print(\"ACCIDENT LOCATION: \",l_places)\n",
        "print(l_s)\n",
        "\n",
        "n_people, n_s = number_finder(doc)\n",
        "death=0\n",
        "if len(n_s)!=0:\n",
        "  death=n_people[0]\n",
        "  print(\"DEATH NUMBER: \",death)\n",
        "else:\n",
        "  death=\"One\"\n",
        "  print(\"DEATH NUMBER: \",death)\n",
        "print(n_s)\n",
        "z=[None,None,None]\n",
        "x=0\n",
        "print(\"RELATED VEHICLES: \")\n",
        "vehicle = ['truck','bus','car','bike','motorcycle','rickshaw','tempo']\n",
        "for i in vehicle:\n",
        "  for j in doc.text.split():\n",
        "    if i in j:\n",
        "      if j!='carrying':\n",
        "        print(i)\n",
        "        z.insert(x, i)\n",
        "        x=x+1\n",
        "        break\n",
        "      \n",
        "loc.append(l_places[0])\n",
        "dea.append(death)\n",
        "veh1.append(z[0])\n",
        "veh2.append(z[1])\n",
        "veh3.append(z[2])\n",
        "\n",
        "if len(l_places)>1:\n",
        "  loc.append(l_places[1])\n",
        "  dea.append(death)\n",
        "  veh1.append(z[0])\n",
        "  veh2.append(z[1])\n",
        "  veh3.append(z[2])\n",
        "\n",
        "  \n",
        "\n",
        "  \n",
        "\n"
      ],
      "metadata": {
        "colab": {
          "base_uri": "https://localhost:8080/"
        },
        "id": "wFcEYPVgq75q",
        "outputId": "e6801b26-c592-444e-b0ec-12609ad0cfcb"
      },
      "execution_count": null,
      "outputs": [
        {
          "output_type": "stream",
          "name": "stdout",
          "text": [
            "ACCIDENT LOCATION:  [Bihar, Bhojpur]\n",
            "[\"(Representational)\\n\\nTwo policemen were killed today after the motorcycle they were riding was knocked down by a truck in Bihar's Bhojpur district, an officer said\", \"(Representational)\\n\\nTwo policemen were killed today after the motorcycle they were riding was knocked down by a truck in Bihar's Bhojpur district, an officer said\"]\n",
            "DEATH NUMBER:  Two\n",
            "[\"(Representational)\\n\\nTwo policemen were killed today after the motorcycle they were riding was knocked down by a truck in Bihar's Bhojpur district, an officer said\"]\n",
            "RELATED VEHICLES: \n",
            "truck\n",
            "motorcycle\n"
          ]
        }
      ]
    },
    {
      "cell_type": "code",
      "source": [
        "link = 'https://www.ndtv.com/india-news/cctv-shows-truck-losing-control-on-road-in-up-3-dead-as-it-rams-auto-3463172'\n",
        "content, date = extract_article_from_url(link)\n",
        "doc = nlp(content)\n",
        "\n",
        "\n",
        "l_places, l_s = location_finder(doc)\n",
        "print(\"ACCIDENT LOCATION: \",l_places)\n",
        "print(l_s)\n",
        "\n",
        "n_people, n_s = number_finder(doc)\n",
        "death=0\n",
        "if len(n_s)!=0:\n",
        "  death=n_people[0]\n",
        "  print(\"DEATH NUMBER: \",death)\n",
        "else:\n",
        "  death=\"One\"\n",
        "  print(\"DEATH NUMBER: \",death)\n",
        "print(n_s)\n",
        "z=[None,None,None]\n",
        "x=0\n",
        "print(\"RELATED VEHICLES: \")\n",
        "vehicle = ['truck','bus','car','bike','motorcycle','rickshaw','tempo']\n",
        "for i in vehicle:\n",
        "  for j in doc.text.split():\n",
        "    if i in j:\n",
        "      if j!='carrying':\n",
        "        print(i)\n",
        "        z.insert(x, i)\n",
        "        x=x+1\n",
        "        break\n",
        "      \n",
        "\n",
        "\n",
        "\n",
        "loc.append(l_places[0])\n",
        "dea.append(death)\n",
        "veh1.append(z[0])\n",
        "veh2.append(z[1])\n",
        "veh3.append(z[2])\n",
        "\n",
        "if len(l_places)>1:\n",
        "  loc.append(l_places[1])\n",
        "  dea.append(death)\n",
        "  veh1.append(z[0])\n",
        "  veh2.append(z[1])\n",
        "  veh3.append(z[2])\n",
        "\n",
        "  \n",
        "\n"
      ],
      "metadata": {
        "colab": {
          "base_uri": "https://localhost:8080/"
        },
        "id": "wA3PxmYjM7hw",
        "outputId": "88ff900f-af34-4cb7-ef03-2757125e5e76"
      },
      "execution_count": null,
      "outputs": [
        {
          "output_type": "stream",
          "name": "stdout",
          "text": [
            "ACCIDENT LOCATION:  [Bardah]\n",
            "[\"\\n\\nAccording to the police, the accident occurred near Thekma in Azamgarh's Bardah around 10 pm on Tuesday\"]\n",
            "DEATH NUMBER:  Three\n",
            "[\"\\n\\nThree people died and four others were injured after a loader truck collided with an autorickshaw in Uttar Pradesh's Azamgarh on Tuesday night\", \"\\n\\nThree people died and four others were injured after a loader truck collided with an autorickshaw in Uttar Pradesh's Azamgarh on Tuesday night\", 'A 17-year-old girl died on the spot while those injured were rushed to a nearby hospital where later, a child and an elderly man also died of injuries,\" said a police official']\n",
            "RELATED VEHICLES: \n",
            "truck\n",
            "rickshaw\n"
          ]
        }
      ]
    },
    {
      "cell_type": "code",
      "source": [
        "link = 'https://www.ndtv.com/india-news/4-dead-after-2-motorcycles-collide-in-uttar-pradesh-police-3460331'\n",
        "content, date = extract_article_from_url(link)\n",
        "doc = nlp(content)\n",
        "\n",
        "\n",
        "l_places, l_s = location_finder(doc)\n",
        "print(\"ACCIDENT LOCATION: \",l_places)\n",
        "print(l_s)\n",
        "\n",
        "n_people, n_s = number_finder(doc)\n",
        "death=0\n",
        "if len(n_s)!=0:\n",
        "  death=n_people[0]\n",
        "  print(\"DEATH NUMBER: \",death)\n",
        "else:\n",
        "  death=\"One\"\n",
        "  print(\"DEATH NUMBER: \",death)\n",
        "print(n_s)\n",
        "z=[None,None,None]\n",
        "x=0\n",
        "print(\"RELATED VEHICLES: \")\n",
        "vehicle = ['truck','bus','car','bike','motorcycle','rickshaw','tempo']\n",
        "for i in vehicle:\n",
        "  for j in doc.text.split():\n",
        "    if i in j:\n",
        "      if j!='carrying':\n",
        "        print(i)\n",
        "        z.insert(x, i)\n",
        "        x=x+1\n",
        "        break\n",
        "      \n",
        "\n",
        "loc.append(l_places[0])\n",
        "dea.append(death)\n",
        "veh1.append(z[0])\n",
        "veh2.append(z[1])\n",
        "veh3.append(z[2])\n",
        "\n",
        "if len(l_places)>1:\n",
        "  loc.append(l_places[1])\n",
        "  dea.append(death)\n",
        "  veh1.append(z[0])\n",
        "  veh2.append(z[1])\n",
        "  veh3.append(z[2])\n",
        "\n",
        "\n",
        "\n",
        "  \n",
        "\n"
      ],
      "metadata": {
        "colab": {
          "base_uri": "https://localhost:8080/"
        },
        "id": "MsIGCq7xM852",
        "outputId": "ad164306-ed4d-4ba4-ac30-00126b76051d"
      },
      "execution_count": null,
      "outputs": [
        {
          "output_type": "stream",
          "name": "stdout",
          "text": [
            "ACCIDENT LOCATION:  [Shyamdeura]\n",
            "['\\n\\nFour persons were killed while another was injured when two motorcycles collided on the Maharajganj-Gorakhpur road in Shyamdeura area, police said on Tuesday']\n",
            "DEATH NUMBER:  Four\n",
            "['\\n\\nFour persons were killed while another was injured when two motorcycles collided on the Maharajganj-Gorakhpur road in Shyamdeura area, police said on Tuesday', '\\n\\nFour persons were killed while another was injured when two motorcycles collided on the Maharajganj-Gorakhpur road in Shyamdeura area, police said on Tuesday']\n",
            "RELATED VEHICLES: \n",
            "bike\n",
            "motorcycle\n"
          ]
        }
      ]
    },
    {
      "cell_type": "code",
      "source": [
        "link = 'https://www.ndtv.com/mumbai-news/boy-12-killed-in-mumbai-after-being-run-over-by-bus-driver-arrested-3453328'\n",
        "content, date = extract_article_from_url(link)\n",
        "doc = nlp(content)\n",
        "\n",
        "\n",
        "l_places, l_s = location_finder(doc)\n",
        "print(\"ACCIDENT LOCATION: \",l_places)\n",
        "print(l_s)\n",
        "\n",
        "n_people, n_s = number_finder(doc)\n",
        "death=0\n",
        "if len(n_s)!=0:\n",
        "  death=n_people[0]\n",
        "  print(\"DEATH NUMBER: \",death)\n",
        "else:\n",
        "  death=\"One\"\n",
        "  print(\"DEATH NUMBER: \",death)\n",
        "print(n_s)\n",
        "z=[None,None,None]\n",
        "x=0\n",
        "print(\"RELATED VEHICLES: \")\n",
        "vehicle = ['truck','bus','car','bike','motorcycle','rickshaw','tempo']\n",
        "for i in vehicle:\n",
        "  for j in doc.text.split():\n",
        "    if i in j:\n",
        "      if j!='carrying':\n",
        "        print(i)\n",
        "        z.insert(x, i)\n",
        "        x=x+1\n",
        "        break\n",
        "      \n",
        "\n",
        "\n",
        "loc.append(l_places[0])\n",
        "dea.append(death)\n",
        "veh1.append(z[0])\n",
        "veh2.append(z[1])\n",
        "veh3.append(z[2])\n",
        "\n",
        "if len(l_places)>1:\n",
        "  loc.append(l_places[1])\n",
        "  dea.append(death)\n",
        "  veh1.append(z[0])\n",
        "  veh2.append(z[1])\n",
        "  veh3.append(z[2])\n",
        "\n",
        "  \n",
        "\n"
      ],
      "metadata": {
        "colab": {
          "base_uri": "https://localhost:8080/"
        },
        "id": "W9VpPpL7OBkX",
        "outputId": "31cd3100-0d27-41d1-ce96-6bf67b7b687a"
      },
      "execution_count": null,
      "outputs": [
        {
          "output_type": "stream",
          "name": "stdout",
          "text": [
            "ACCIDENT LOCATION:  [Shivajinagar]\n",
            "['\\n\\nThe accident took place near Nurani Masjid in Shivajinagar area on Thursday evening, an official said']\n",
            "DEATH NUMBER:  One\n",
            "[]\n",
            "RELATED VEHICLES: \n",
            "bus\n"
          ]
        }
      ]
    },
    {
      "cell_type": "code",
      "source": [
        "link = 'https://www.ndtv.com/india-news/3-killed-after-car-falls-into-well-in-maharashtra-3488439'\n",
        "content, date = extract_article_from_url(link)\n",
        "doc = nlp(content)\n",
        "\n",
        "\n",
        "l_places, l_s = location_finder(doc)\n",
        "print(\"ACCIDENT LOCATION: \",l_places)\n",
        "print(l_s)\n",
        "\n",
        "n_people, n_s = number_finder(doc)\n",
        "death=0\n",
        "if len(n_s)!=0:\n",
        "  death=n_people[0]\n",
        "  print(\"DEATH NUMBER: \",death)\n",
        "else:\n",
        "  death=\"One\"\n",
        "  print(\"DEATH NUMBER: \",death)\n",
        "print(n_s)\n",
        "z=[None,None,None]\n",
        "x=0\n",
        "print(\"RELATED VEHICLES: \")\n",
        "vehicle = ['truck','bus','car','bike','motorcycle','rickshaw','tempo']\n",
        "for i in vehicle:\n",
        "  for j in doc.text.split():\n",
        "    if i in j:\n",
        "      if j!='carrying':\n",
        "        print(i)\n",
        "        z.insert(x, i)\n",
        "        x=x+1\n",
        "        break\n",
        "      \n",
        "\n",
        "\n",
        "\n",
        "\n",
        "loc.append(l_places[0])\n",
        "dea.append(death)\n",
        "veh1.append(z[0])\n",
        "veh2.append(z[1])\n",
        "veh3.append(z[2])\n",
        "\n",
        "if len(l_places)>1:\n",
        "  loc.append(l_places[1])\n",
        "  dea.append(death)\n",
        "  veh1.append(z[0])\n",
        "  veh2.append(z[1])\n",
        "  veh3.append(z[2])\n",
        "\n",
        "  \n",
        "\n"
      ],
      "metadata": {
        "colab": {
          "base_uri": "https://localhost:8080/"
        },
        "id": "7PuTs41ZOIe9",
        "outputId": "b9233ac0-aec1-4d11-d44a-b8b9ed808017"
      },
      "execution_count": null,
      "outputs": [
        {
          "output_type": "stream",
          "name": "stdout",
          "text": [
            "ACCIDENT LOCATION:  [Buldhana, Ramnagar, Deulgaonraja]\n",
            "[\"(Representational)\\n\\nThree persons, including a woman and her daughter, died on Thursday after a car plunged into an old well in Maharashtra's Buldhana district, a police official said\", '\\n\\nThe incident took place in Ramnagar Deulgaonraja, Inspector Jaywant Satav told PTI', '\\n\\nThe incident took place in Ramnagar Deulgaonraja, Inspector Jaywant Satav told PTI']\n",
            "DEATH NUMBER:  Three\n",
            "[\"(Representational)\\n\\nThree persons, including a woman and her daughter, died on Thursday after a car plunged into an old well in Maharashtra's Buldhana district, a police official said\"]\n",
            "RELATED VEHICLES: \n",
            "car\n"
          ]
        }
      ]
    },
    {
      "cell_type": "code",
      "source": [
        "d = {'ACCIDENT LOCATION':loc,'DEATH NUMBER':dea,'Vehicle 1':veh1,'Vehicle 2':veh2}\n",
        "df = pd.DataFrame(d)\n",
        "df\n",
        "\n"
      ],
      "metadata": {
        "colab": {
          "base_uri": "https://localhost:8080/",
          "height": 269
        },
        "id": "PRb2oeArrMsS",
        "outputId": "23b21a7c-9b77-460d-e90d-32c433c7f345"
      },
      "execution_count": null,
      "outputs": [
        {
          "output_type": "execute_result",
          "data": {
            "text/plain": [
              "  ACCIDENT LOCATION DEATH NUMBER Vehicle 1   Vehicle 2\n",
              "0           (Bihar)          Two     truck  motorcycle\n",
              "1         (Bhojpur)          Two     truck  motorcycle\n",
              "2          (Bardah)        Three     truck    rickshaw\n",
              "3      (Shyamdeura)         Four      bike  motorcycle\n",
              "4    (Shivajinagar)          One       bus        None\n",
              "5        (Buldhana)        Three       car        None\n",
              "6        (Ramnagar)        Three       car        None"
            ],
            "text/html": [
              "\n",
              "  <div id=\"df-59d51b91-0069-425e-ac40-ba62ea05768f\">\n",
              "    <div class=\"colab-df-container\">\n",
              "      <div>\n",
              "<style scoped>\n",
              "    .dataframe tbody tr th:only-of-type {\n",
              "        vertical-align: middle;\n",
              "    }\n",
              "\n",
              "    .dataframe tbody tr th {\n",
              "        vertical-align: top;\n",
              "    }\n",
              "\n",
              "    .dataframe thead th {\n",
              "        text-align: right;\n",
              "    }\n",
              "</style>\n",
              "<table border=\"1\" class=\"dataframe\">\n",
              "  <thead>\n",
              "    <tr style=\"text-align: right;\">\n",
              "      <th></th>\n",
              "      <th>ACCIDENT LOCATION</th>\n",
              "      <th>DEATH NUMBER</th>\n",
              "      <th>Vehicle 1</th>\n",
              "      <th>Vehicle 2</th>\n",
              "    </tr>\n",
              "  </thead>\n",
              "  <tbody>\n",
              "    <tr>\n",
              "      <th>0</th>\n",
              "      <td>(Bihar)</td>\n",
              "      <td>Two</td>\n",
              "      <td>truck</td>\n",
              "      <td>motorcycle</td>\n",
              "    </tr>\n",
              "    <tr>\n",
              "      <th>1</th>\n",
              "      <td>(Bhojpur)</td>\n",
              "      <td>Two</td>\n",
              "      <td>truck</td>\n",
              "      <td>motorcycle</td>\n",
              "    </tr>\n",
              "    <tr>\n",
              "      <th>2</th>\n",
              "      <td>(Bardah)</td>\n",
              "      <td>Three</td>\n",
              "      <td>truck</td>\n",
              "      <td>rickshaw</td>\n",
              "    </tr>\n",
              "    <tr>\n",
              "      <th>3</th>\n",
              "      <td>(Shyamdeura)</td>\n",
              "      <td>Four</td>\n",
              "      <td>bike</td>\n",
              "      <td>motorcycle</td>\n",
              "    </tr>\n",
              "    <tr>\n",
              "      <th>4</th>\n",
              "      <td>(Shivajinagar)</td>\n",
              "      <td>One</td>\n",
              "      <td>bus</td>\n",
              "      <td>None</td>\n",
              "    </tr>\n",
              "    <tr>\n",
              "      <th>5</th>\n",
              "      <td>(Buldhana)</td>\n",
              "      <td>Three</td>\n",
              "      <td>car</td>\n",
              "      <td>None</td>\n",
              "    </tr>\n",
              "    <tr>\n",
              "      <th>6</th>\n",
              "      <td>(Ramnagar)</td>\n",
              "      <td>Three</td>\n",
              "      <td>car</td>\n",
              "      <td>None</td>\n",
              "    </tr>\n",
              "  </tbody>\n",
              "</table>\n",
              "</div>\n",
              "      <button class=\"colab-df-convert\" onclick=\"convertToInteractive('df-59d51b91-0069-425e-ac40-ba62ea05768f')\"\n",
              "              title=\"Convert this dataframe to an interactive table.\"\n",
              "              style=\"display:none;\">\n",
              "        \n",
              "  <svg xmlns=\"http://www.w3.org/2000/svg\" height=\"24px\"viewBox=\"0 0 24 24\"\n",
              "       width=\"24px\">\n",
              "    <path d=\"M0 0h24v24H0V0z\" fill=\"none\"/>\n",
              "    <path d=\"M18.56 5.44l.94 2.06.94-2.06 2.06-.94-2.06-.94-.94-2.06-.94 2.06-2.06.94zm-11 1L8.5 8.5l.94-2.06 2.06-.94-2.06-.94L8.5 2.5l-.94 2.06-2.06.94zm10 10l.94 2.06.94-2.06 2.06-.94-2.06-.94-.94-2.06-.94 2.06-2.06.94z\"/><path d=\"M17.41 7.96l-1.37-1.37c-.4-.4-.92-.59-1.43-.59-.52 0-1.04.2-1.43.59L10.3 9.45l-7.72 7.72c-.78.78-.78 2.05 0 2.83L4 21.41c.39.39.9.59 1.41.59.51 0 1.02-.2 1.41-.59l7.78-7.78 2.81-2.81c.8-.78.8-2.07 0-2.86zM5.41 20L4 18.59l7.72-7.72 1.47 1.35L5.41 20z\"/>\n",
              "  </svg>\n",
              "      </button>\n",
              "      \n",
              "  <style>\n",
              "    .colab-df-container {\n",
              "      display:flex;\n",
              "      flex-wrap:wrap;\n",
              "      gap: 12px;\n",
              "    }\n",
              "\n",
              "    .colab-df-convert {\n",
              "      background-color: #E8F0FE;\n",
              "      border: none;\n",
              "      border-radius: 50%;\n",
              "      cursor: pointer;\n",
              "      display: none;\n",
              "      fill: #1967D2;\n",
              "      height: 32px;\n",
              "      padding: 0 0 0 0;\n",
              "      width: 32px;\n",
              "    }\n",
              "\n",
              "    .colab-df-convert:hover {\n",
              "      background-color: #E2EBFA;\n",
              "      box-shadow: 0px 1px 2px rgba(60, 64, 67, 0.3), 0px 1px 3px 1px rgba(60, 64, 67, 0.15);\n",
              "      fill: #174EA6;\n",
              "    }\n",
              "\n",
              "    [theme=dark] .colab-df-convert {\n",
              "      background-color: #3B4455;\n",
              "      fill: #D2E3FC;\n",
              "    }\n",
              "\n",
              "    [theme=dark] .colab-df-convert:hover {\n",
              "      background-color: #434B5C;\n",
              "      box-shadow: 0px 1px 3px 1px rgba(0, 0, 0, 0.15);\n",
              "      filter: drop-shadow(0px 1px 2px rgba(0, 0, 0, 0.3));\n",
              "      fill: #FFFFFF;\n",
              "    }\n",
              "  </style>\n",
              "\n",
              "      <script>\n",
              "        const buttonEl =\n",
              "          document.querySelector('#df-59d51b91-0069-425e-ac40-ba62ea05768f button.colab-df-convert');\n",
              "        buttonEl.style.display =\n",
              "          google.colab.kernel.accessAllowed ? 'block' : 'none';\n",
              "\n",
              "        async function convertToInteractive(key) {\n",
              "          const element = document.querySelector('#df-59d51b91-0069-425e-ac40-ba62ea05768f');\n",
              "          const dataTable =\n",
              "            await google.colab.kernel.invokeFunction('convertToInteractive',\n",
              "                                                     [key], {});\n",
              "          if (!dataTable) return;\n",
              "\n",
              "          const docLinkHtml = 'Like what you see? Visit the ' +\n",
              "            '<a target=\"_blank\" href=https://colab.research.google.com/notebooks/data_table.ipynb>data table notebook</a>'\n",
              "            + ' to learn more about interactive tables.';\n",
              "          element.innerHTML = '';\n",
              "          dataTable['output_type'] = 'display_data';\n",
              "          await google.colab.output.renderOutput(dataTable, element);\n",
              "          const docLink = document.createElement('div');\n",
              "          docLink.innerHTML = docLinkHtml;\n",
              "          element.appendChild(docLink);\n",
              "        }\n",
              "      </script>\n",
              "    </div>\n",
              "  </div>\n",
              "  "
            ]
          },
          "metadata": {},
          "execution_count": 25
        }
      ]
    },
    {
      "cell_type": "code",
      "source": [],
      "metadata": {
        "id": "7OwTWjmIWkBw"
      },
      "execution_count": null,
      "outputs": []
    }
  ]
}