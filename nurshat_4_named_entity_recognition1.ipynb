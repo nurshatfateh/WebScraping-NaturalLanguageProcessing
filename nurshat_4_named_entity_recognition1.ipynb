{
  "nbformat": 4,
  "nbformat_minor": 0,
  "metadata": {
    "colab": {
      "name": "nurshat_4_named_entity_recognition1.ipynb",
      "provenance": [],
      "authorship_tag": "ABX9TyPAzQCv5HVDljKOwRuT/DnT",
      "include_colab_link": true
    },
    "kernelspec": {
      "name": "python3",
      "display_name": "Python 3"
    },
    "language_info": {
      "name": "python"
    }
  },
  "cells": [
    {
      "cell_type": "markdown",
      "metadata": {
        "id": "view-in-github",
        "colab_type": "text"
      },
      "source": [
        "<a href=\"https://colab.research.google.com/github/nurshatfateh/WebScraping-NaturalLanguageProcessing/blob/main/nurshat_4_named_entity_recognition1.ipynb\" target=\"_parent\"><img src=\"https://colab.research.google.com/assets/colab-badge.svg\" alt=\"Open In Colab\"/></a>"
      ]
    },
    {
      "cell_type": "markdown",
      "source": [
        "DESCRIPTION: Web Scraping and Named Entity Recognition using NLTK, Spacy, NewsCatcherApiClient, newspaper3k"
      ],
      "metadata": {
        "id": "6TWutBOTVb4F"
      }
    },
    {
      "cell_type": "markdown",
      "source": [
        "Collecting News\n",
        "\n",
        "\n",
        "\n"
      ],
      "metadata": {
        "id": "2UBeqbomJXfV"
      }
    },
    {
      "cell_type": "code",
      "source": [
        "pip install newscatcherapi"
      ],
      "metadata": {
        "colab": {
          "base_uri": "https://localhost:8080/"
        },
        "id": "Rlag3COQLK90",
        "outputId": "4beabe94-e058-406d-c5f6-129dda9dcbec"
      },
      "execution_count": 3,
      "outputs": [
        {
          "output_type": "stream",
          "name": "stdout",
          "text": [
            "Looking in indexes: https://pypi.org/simple, https://us-python.pkg.dev/colab-wheels/public/simple/\n",
            "Requirement already satisfied: newscatcherapi in /usr/local/lib/python3.7/dist-packages (0.7.1)\n",
            "Requirement already satisfied: requests>=2.24.0 in /usr/local/lib/python3.7/dist-packages (from newscatcherapi) (2.28.1)\n",
            "Requirement already satisfied: dateparser>=0.7.6 in /usr/local/lib/python3.7/dist-packages (from newscatcherapi) (1.1.1)\n",
            "Requirement already satisfied: regex!=2019.02.19,!=2021.8.27,<2022.3.15 in /usr/local/lib/python3.7/dist-packages (from dateparser>=0.7.6->newscatcherapi) (2022.3.2)\n",
            "Requirement already satisfied: tzlocal in /usr/local/lib/python3.7/dist-packages (from dateparser>=0.7.6->newscatcherapi) (1.5.1)\n",
            "Requirement already satisfied: pytz in /usr/local/lib/python3.7/dist-packages (from dateparser>=0.7.6->newscatcherapi) (2022.1)\n",
            "Requirement already satisfied: python-dateutil in /usr/local/lib/python3.7/dist-packages (from dateparser>=0.7.6->newscatcherapi) (2.8.2)\n",
            "Requirement already satisfied: charset-normalizer<3,>=2 in /usr/local/lib/python3.7/dist-packages (from requests>=2.24.0->newscatcherapi) (2.1.0)\n",
            "Requirement already satisfied: certifi>=2017.4.17 in /usr/local/lib/python3.7/dist-packages (from requests>=2.24.0->newscatcherapi) (2022.6.15)\n",
            "Requirement already satisfied: idna<4,>=2.5 in /usr/local/lib/python3.7/dist-packages (from requests>=2.24.0->newscatcherapi) (2.10)\n",
            "Requirement already satisfied: urllib3<1.27,>=1.21.1 in /usr/local/lib/python3.7/dist-packages (from requests>=2.24.0->newscatcherapi) (1.24.3)\n",
            "Requirement already satisfied: six>=1.5 in /usr/local/lib/python3.7/dist-packages (from python-dateutil->dateparser>=0.7.6->newscatcherapi) (1.15.0)\n"
          ]
        }
      ]
    },
    {
      "cell_type": "code",
      "source": [
        "from newscatcherapi import NewsCatcherApiClient\n",
        "newscatcherapi=NewsCatcherApiClient(x_api_key='dZ7A2uDos9MoJE-eyzomyvKBcUvwQrIhie6ImTnbKc8')\n",
        "collection = newscatcherapi.get_search_all_pages(q='Road Accident',\n",
        "                                         lang='en',\n",
        "                                         countries='BD',\n",
        "                                         )\n",
        "                                "
      ],
      "metadata": {
        "colab": {
          "base_uri": "https://localhost:8080/"
        },
        "id": "IFp2PRPT8Xt5",
        "outputId": "1e02f410-c3db-4dc8-c5ca-30b34495adb3"
      },
      "execution_count": 4,
      "outputs": [
        {
          "output_type": "stream",
          "name": "stdout",
          "text": [
            "1 page is going to be extracted\n",
            "Total number of found articles => 112.\n",
            "Total number of pages 2.\n",
            "2/2 page is going to be extracted\n"
          ]
        }
      ]
    },
    {
      "cell_type": "markdown",
      "source": [
        "Working with Articles\n"
      ],
      "metadata": {
        "id": "DFMZpAm8Jokz"
      }
    },
    {
      "cell_type": "code",
      "source": [
        "pip install newspaper3k"
      ],
      "metadata": {
        "colab": {
          "base_uri": "https://localhost:8080/"
        },
        "id": "h7PHD_i1LNcs",
        "outputId": "24ba59d4-c6bb-46ad-957f-259e8abeca2e"
      },
      "execution_count": 5,
      "outputs": [
        {
          "output_type": "stream",
          "name": "stdout",
          "text": [
            "Looking in indexes: https://pypi.org/simple, https://us-python.pkg.dev/colab-wheels/public/simple/\n",
            "Collecting newspaper3k\n",
            "  Downloading newspaper3k-0.2.8-py3-none-any.whl (211 kB)\n",
            "\u001b[K     |████████████████████████████████| 211 kB 5.2 MB/s \n",
            "\u001b[?25hCollecting tldextract>=2.0.1\n",
            "  Downloading tldextract-3.3.1-py3-none-any.whl (93 kB)\n",
            "\u001b[K     |████████████████████████████████| 93 kB 1.5 MB/s \n",
            "\u001b[?25hRequirement already satisfied: Pillow>=3.3.0 in /usr/local/lib/python3.7/dist-packages (from newspaper3k) (7.1.2)\n",
            "Collecting cssselect>=0.9.2\n",
            "  Downloading cssselect-1.1.0-py2.py3-none-any.whl (16 kB)\n",
            "Collecting feedparser>=5.2.1\n",
            "  Downloading feedparser-6.0.10-py3-none-any.whl (81 kB)\n",
            "\u001b[K     |████████████████████████████████| 81 kB 3.7 MB/s \n",
            "\u001b[?25hRequirement already satisfied: nltk>=3.2.1 in /usr/local/lib/python3.7/dist-packages (from newspaper3k) (3.7)\n",
            "Requirement already satisfied: python-dateutil>=2.5.3 in /usr/local/lib/python3.7/dist-packages (from newspaper3k) (2.8.2)\n",
            "Requirement already satisfied: lxml>=3.6.0 in /usr/local/lib/python3.7/dist-packages (from newspaper3k) (4.2.6)\n",
            "Requirement already satisfied: beautifulsoup4>=4.4.1 in /usr/local/lib/python3.7/dist-packages (from newspaper3k) (4.6.3)\n",
            "Requirement already satisfied: requests>=2.10.0 in /usr/local/lib/python3.7/dist-packages (from newspaper3k) (2.28.1)\n",
            "Collecting feedfinder2>=0.0.4\n",
            "  Downloading feedfinder2-0.0.4.tar.gz (3.3 kB)\n",
            "Collecting jieba3k>=0.35.1\n",
            "  Downloading jieba3k-0.35.1.zip (7.4 MB)\n",
            "\u001b[K     |████████████████████████████████| 7.4 MB 17.0 MB/s \n",
            "\u001b[?25hRequirement already satisfied: PyYAML>=3.11 in /usr/local/lib/python3.7/dist-packages (from newspaper3k) (3.13)\n",
            "Collecting tinysegmenter==0.3\n",
            "  Downloading tinysegmenter-0.3.tar.gz (16 kB)\n",
            "Requirement already satisfied: six in /usr/local/lib/python3.7/dist-packages (from feedfinder2>=0.0.4->newspaper3k) (1.15.0)\n",
            "Collecting sgmllib3k\n",
            "  Downloading sgmllib3k-1.0.0.tar.gz (5.8 kB)\n",
            "Requirement already satisfied: joblib in /usr/local/lib/python3.7/dist-packages (from nltk>=3.2.1->newspaper3k) (1.1.0)\n",
            "Requirement already satisfied: regex>=2021.8.3 in /usr/local/lib/python3.7/dist-packages (from nltk>=3.2.1->newspaper3k) (2022.3.2)\n",
            "Requirement already satisfied: click in /usr/local/lib/python3.7/dist-packages (from nltk>=3.2.1->newspaper3k) (7.1.2)\n",
            "Requirement already satisfied: tqdm in /usr/local/lib/python3.7/dist-packages (from nltk>=3.2.1->newspaper3k) (4.64.0)\n",
            "Requirement already satisfied: idna<4,>=2.5 in /usr/local/lib/python3.7/dist-packages (from requests>=2.10.0->newspaper3k) (2.10)\n",
            "Requirement already satisfied: urllib3<1.27,>=1.21.1 in /usr/local/lib/python3.7/dist-packages (from requests>=2.10.0->newspaper3k) (1.24.3)\n",
            "Requirement already satisfied: certifi>=2017.4.17 in /usr/local/lib/python3.7/dist-packages (from requests>=2.10.0->newspaper3k) (2022.6.15)\n",
            "Requirement already satisfied: charset-normalizer<3,>=2 in /usr/local/lib/python3.7/dist-packages (from requests>=2.10.0->newspaper3k) (2.1.0)\n",
            "Requirement already satisfied: filelock>=3.0.8 in /usr/local/lib/python3.7/dist-packages (from tldextract>=2.0.1->newspaper3k) (3.7.1)\n",
            "Collecting requests-file>=1.4\n",
            "  Downloading requests_file-1.5.1-py2.py3-none-any.whl (3.7 kB)\n",
            "Building wheels for collected packages: tinysegmenter, feedfinder2, jieba3k, sgmllib3k\n",
            "  Building wheel for tinysegmenter (setup.py) ... \u001b[?25l\u001b[?25hdone\n",
            "  Created wheel for tinysegmenter: filename=tinysegmenter-0.3-py3-none-any.whl size=13553 sha256=d8b6ceefb197b6f89cf0d59bb81dd86e0a105c199e21eead715f174fd7528847\n",
            "  Stored in directory: /root/.cache/pip/wheels/df/67/41/faca10fa501ca010be41b49d40360c2959e1c4f09bcbfa37fa\n",
            "  Building wheel for feedfinder2 (setup.py) ... \u001b[?25l\u001b[?25hdone\n",
            "  Created wheel for feedfinder2: filename=feedfinder2-0.0.4-py3-none-any.whl size=3357 sha256=06b7cac6d4e727ab6d132141621c677983a4e1c71bbb4eb5a475e663b1bca9a2\n",
            "  Stored in directory: /root/.cache/pip/wheels/7f/d4/8f/6e2ca54744c9d7292d88ddb8d42876bcdab5e6d84a21c10346\n",
            "  Building wheel for jieba3k (setup.py) ... \u001b[?25l\u001b[?25hdone\n",
            "  Created wheel for jieba3k: filename=jieba3k-0.35.1-py3-none-any.whl size=7398404 sha256=057f243a860396e83ef8facb469693147c0a252fcbd7d6105043bb4e5f6df402\n",
            "  Stored in directory: /root/.cache/pip/wheels/4c/91/46/3c208287b726df325a5979574324878b679116e4baae1af3c3\n",
            "  Building wheel for sgmllib3k (setup.py) ... \u001b[?25l\u001b[?25hdone\n",
            "  Created wheel for sgmllib3k: filename=sgmllib3k-1.0.0-py3-none-any.whl size=6066 sha256=84282ec47822d037da29cd7f854fea4808c7a0f8aed19c1708fd4245ff81cb74\n",
            "  Stored in directory: /root/.cache/pip/wheels/73/ad/a4/0dff4a6ef231fc0dfa12ffbac2a36cebfdddfe059f50e019aa\n",
            "Successfully built tinysegmenter feedfinder2 jieba3k sgmllib3k\n",
            "Installing collected packages: sgmllib3k, requests-file, tldextract, tinysegmenter, jieba3k, feedparser, feedfinder2, cssselect, newspaper3k\n",
            "Successfully installed cssselect-1.1.0 feedfinder2-0.0.4 feedparser-6.0.10 jieba3k-0.35.1 newspaper3k-0.2.8 requests-file-1.5.1 sgmllib3k-1.0.0 tinysegmenter-0.3 tldextract-3.3.1\n"
          ]
        }
      ]
    },
    {
      "cell_type": "code",
      "source": [
        "import pandas as pd\n",
        "from newspaper import Article\n",
        "link=collection['articles'][0]['link']\n",
        "article=Article(link)\n",
        "article.download()\n",
        "article.parse()\n",
        "print(article.text)"
      ],
      "metadata": {
        "colab": {
          "base_uri": "https://localhost:8080/"
        },
        "id": "yg6J97UyAl4g",
        "outputId": "15dd58d1-3c8a-438f-aa55-d23be3151277"
      },
      "execution_count": 6,
      "outputs": [
        {
          "output_type": "stream",
          "name": "stdout",
          "text": [
            "Three people were killed and 15 others injured in a four-vehicle pile-up on Dhaka-Sylhet highway in Brahmanbaria’s Bijoynagar upazila yesterday. The CNG-run three-wheeler was crushed in the road accident. Photo: Star\n",
            "\n",
            "The country has witnessed the highest number of road crashes and deaths during the Eid-ul-Azha rush this year since 2016, exposing the poor state of road safety.\n",
            "\n",
            "At least 398 people were killed in 319 road crashes in 15 days before and after the Eid. The figures are 46 percent and 33 percent higher respectively compared to the same period last year, according Bangladesh Jatri Kalyan Samity data, prepared based on media reports.\n",
            "\n",
            "Although motorbikes were banned on highways for seven days during Eid time, they were involved in accidents that resulted in 131 deaths.\n",
            "\n",
            "\"If we compare accident data of the last seven years, the number of both the accidents and the deaths during this Eid rush is the highest,\" Mozammel Hoque Chowdhury, secretary general of the Samity, said while sharing the report at a press conference at Dhaka Reporters' Unity yesterday.\n",
            "\n",
            "Prominent economist Hossain Zillur Rahman, also chairman of Safe Road and Transport Alliance, which promotes road safety, said the numbers of accidents and casualties are rising despite various steps by the authorities to reduce them.\n",
            "\n",
            "\"A lack of road safety has turned out to be a human catastrophe for Bangladesh and its severity is increasing, instead of decreasing, over the years,\" he told the press conference.\n",
            "\n",
            "With the number of accidents rising, deaths on highways have become a major concern.\n",
            "\n",
            "Different steps by different authorities have failed to improve road safety and cut death tolls, as police reports show road crashes and deaths rose by 30 percent last year from a year before.\n",
            "\n",
            "Roads turn highly unsafe during Eid rush as a greater number of vehicles hit the streets to cater to the huge pressure of home-goers, as evidenced in the Jatri Kalyan Samity report.\n",
            "\n",
            "The actual number of the accidents and deaths may be higher, as the Samity prepares its report based on accidents reported in the media, where many accidents go unreported.\n",
            "\n",
            "27 PEOPLE KILLED DAILY\n",
            "\n",
            "Mozammel said around 1.20 crore people left Dhaka ahead of the Eid while around 4 crore people travelled from one district to another during this time.\n",
            "\n",
            "The government's decision to ban bikes on highways during Eid rush caused scarcity of vehicles, creating an anarchy over fares while many unfit vehicles hit the streets to cope with the demand, Mozammel said.\n",
            "\n",
            "A range of mismanagements caused traffic congestion on highways, leaving people to suffer for up to 20 hours, he added.\n",
            "\n",
            "He said at least 398 people were killed in 319 road crashes 15 days from July 3 to 17, which is nearly 27 deaths a day.\n",
            "\n",
            "During the same period last year, 273 people died in 240 accidents.\n",
            "\n",
            "Twenty-five people were killed in 25 train-related accidents, and 17 people were killed in 10 waterways accidents, he said.\n",
            "\n",
            "At least 131 people died and 68 others were injured in 113 accidents involving bikes, which is 35.42 percent of the total accidents and 32.91 percent of the total deaths, he said.\n",
            "\n",
            "Among the victims, 157 were drivers, 106 pedestrians, 62 women and 51 children.\n",
            "\n",
            "Of the accidents, 23.19 percent were head-on collisions while pedestrians were crushed to death in 50.78 percent cases. Vehicles fell into ditches in 18.49 percent of cases after losing control, he said.\n",
            "\n",
            "WHY SO MANY CRASHES\n",
            "\n",
            "Kazi Md Shifun Newaz, an assistant professor at Accident Research Institute of Buet, said many of the accidents took place on the roads that have no dividers.\n",
            "\n",
            "The government should build dividers on every road to avoid head-on collisions, he added.\n",
            "\n",
            "Drivers usually drive vehicles for eight to 10 days before Eid without any rest. This leads to reckless driving, resulting in crashes, he said, adding that the authorities should develop a roaster system for drivers to avoid the situation.\n",
            "\n",
            "Referring to the large number of deaths of pedestrians, he said a lack of safe crossings as well as markets, schools and colleges along roads are major reasons.\n",
            "\n",
            "Hossain Zillur, also former adviser to a caretaker government, blamed nonchalance of authorities for the situation.\n",
            "\n",
            "The authorities are taking what he called some \"partial steps\" to reduce road crashes which are often limited to taking initiatives. \"But we want to see results.\"\n",
            "\n",
            "Road transport sector is a very important sector, which is seeing an imbalanced expansion, he noted.\n",
            "\n",
            "He said bikes and easy-bikes, considered major contributors of accidents, are increasing due to a lack of public transport, he added.\n",
            "\n",
            "The economist said \"vested interests\" get priority in the transport sector with political blessings with little regard for public interest.\n",
            "\n",
            "He recommended taking steps against political favouritism to change the situation.\n",
            "\n",
            "According to him, road accidents cannot be reduced without solving the overall problems that the transport sector faces.\n"
          ]
        }
      ]
    },
    {
      "cell_type": "markdown",
      "source": [
        "Approach 1 - Article analysis using nltk\n"
      ],
      "metadata": {
        "id": "F9s8zq3xFSLq"
      }
    },
    {
      "cell_type": "code",
      "source": [
        "pip install nltk"
      ],
      "metadata": {
        "colab": {
          "base_uri": "https://localhost:8080/"
        },
        "id": "yke1PtA4LSIX",
        "outputId": "523833db-9b0f-4188-c3a0-6f27896e15d8"
      },
      "execution_count": 7,
      "outputs": [
        {
          "output_type": "stream",
          "name": "stdout",
          "text": [
            "Looking in indexes: https://pypi.org/simple, https://us-python.pkg.dev/colab-wheels/public/simple/\n",
            "Requirement already satisfied: nltk in /usr/local/lib/python3.7/dist-packages (3.7)\n",
            "Requirement already satisfied: tqdm in /usr/local/lib/python3.7/dist-packages (from nltk) (4.64.0)\n",
            "Requirement already satisfied: click in /usr/local/lib/python3.7/dist-packages (from nltk) (7.1.2)\n",
            "Requirement already satisfied: joblib in /usr/local/lib/python3.7/dist-packages (from nltk) (1.1.0)\n",
            "Requirement already satisfied: regex>=2021.8.3 in /usr/local/lib/python3.7/dist-packages (from nltk) (2022.3.2)\n"
          ]
        }
      ]
    },
    {
      "cell_type": "code",
      "source": [
        "print(collection['articles'][0]['published_date'])\n",
        "import nltk\n",
        "nltk.download('punkt')\n",
        "nltk.download('averaged_perceptron_tagger')\n",
        "nltk.download('maxent_ne_chunker')\n",
        "nltk.download('words')\n",
        "sentence = article.text\n",
        "for sent in nltk.sent_tokenize(sentence):\n",
        "  for chunk in nltk.ne_chunk(nltk.pos_tag(nltk.word_tokenize(sent))):\n",
        "     if hasattr(chunk, 'label'):\n",
        "        print(chunk.label(), ' <---------- ', ' '.join(c[0] for c in chunk))"
      ],
      "metadata": {
        "colab": {
          "base_uri": "https://localhost:8080/"
        },
        "id": "h45A1sMEBUqt",
        "outputId": "b848ee12-996d-4415-81ac-b9eac3ee045d"
      },
      "execution_count": 8,
      "outputs": [
        {
          "output_type": "stream",
          "name": "stdout",
          "text": [
            "2022-07-19 18:00:00\n"
          ]
        },
        {
          "output_type": "stream",
          "name": "stderr",
          "text": [
            "[nltk_data] Downloading package punkt to /root/nltk_data...\n",
            "[nltk_data]   Unzipping tokenizers/punkt.zip.\n",
            "[nltk_data] Downloading package averaged_perceptron_tagger to\n",
            "[nltk_data]     /root/nltk_data...\n",
            "[nltk_data]   Unzipping taggers/averaged_perceptron_tagger.zip.\n",
            "[nltk_data] Downloading package maxent_ne_chunker to\n",
            "[nltk_data]     /root/nltk_data...\n",
            "[nltk_data]   Unzipping chunkers/maxent_ne_chunker.zip.\n",
            "[nltk_data] Downloading package words to /root/nltk_data...\n",
            "[nltk_data]   Unzipping corpora/words.zip.\n"
          ]
        },
        {
          "output_type": "stream",
          "name": "stdout",
          "text": [
            "GSP  <----------  Brahmanbaria\n",
            "GPE  <----------  Photo\n",
            "ORGANIZATION  <----------  Eid\n",
            "PERSON  <----------  Bangladesh Jatri Kalyan Samity\n",
            "PERSON  <----------  Mozammel Hoque Chowdhury\n",
            "ORGANIZATION  <----------  Samity\n",
            "ORGANIZATION  <----------  Dhaka\n",
            "PERSON  <----------  Hossain Zillur Rahman\n",
            "PERSON  <----------  Safe Road\n",
            "ORGANIZATION  <----------  Transport Alliance\n",
            "ORGANIZATION  <----------  Bangladesh\n",
            "GPE  <----------  Roads\n",
            "ORGANIZATION  <----------  Jatri Kalyan Samity\n",
            "ORGANIZATION  <----------  Samity\n",
            "ORGANIZATION  <----------  KILLED\n",
            "PERSON  <----------  Mozammel\n",
            "PERSON  <----------  Dhaka\n",
            "ORGANIZATION  <----------  Eid\n",
            "PERSON  <----------  Mozammel\n",
            "PERSON  <----------  Vehicles\n",
            "ORGANIZATION  <----------  MANY\n",
            "ORGANIZATION  <----------  CRASHES Kazi Md Shifun Newaz\n",
            "ORGANIZATION  <----------  Accident Research Institute\n",
            "GPE  <----------  Buet\n",
            "PERSON  <----------  Eid\n",
            "GPE  <----------  Hossain\n",
            "ORGANIZATION  <----------  Zillur\n",
            "GPE  <----------  Road\n"
          ]
        }
      ]
    },
    {
      "cell_type": "markdown",
      "source": [
        "Approach 2 - Article analysis using spacy"
      ],
      "metadata": {
        "id": "fmRjW0jOFZvW"
      }
    },
    {
      "cell_type": "code",
      "source": [
        "print(collection['articles'][0]['published_date'])\n",
        "import spacy \n",
        "nlp = spacy.load('en_core_web_sm')\n",
        "sentence = article.text\n",
        "doc = nlp(sentence)\n",
        "for ent in doc.ents:\n",
        "    print(ent.text,' <------------- ',ent.label_, ' = ', spacy.explain(ent.label_))"
      ],
      "metadata": {
        "id": "_LSCai3WDXI7",
        "colab": {
          "base_uri": "https://localhost:8080/"
        },
        "outputId": "e1f846b7-afa1-43ec-da4f-51f61a6d5e0f"
      },
      "execution_count": 9,
      "outputs": [
        {
          "output_type": "stream",
          "name": "stdout",
          "text": [
            "2022-07-19 18:00:00\n",
            "Three  <-------------  CARDINAL  =  Numerals that do not fall under another type\n",
            "15  <-------------  CARDINAL  =  Numerals that do not fall under another type\n",
            "four  <-------------  CARDINAL  =  Numerals that do not fall under another type\n",
            "Dhaka-Sylhet  <-------------  ORG  =  Companies, agencies, institutions, etc.\n",
            "Brahmanbaria’s Bijoynagar  <-------------  FAC  =  Buildings, airports, highways, bridges, etc.\n",
            "yesterday  <-------------  DATE  =  Absolute or relative dates or periods\n",
            "three  <-------------  CARDINAL  =  Numerals that do not fall under another type\n",
            "this year  <-------------  DATE  =  Absolute or relative dates or periods\n",
            "2016  <-------------  DATE  =  Absolute or relative dates or periods\n",
            "At least 398  <-------------  CARDINAL  =  Numerals that do not fall under another type\n",
            "319  <-------------  CARDINAL  =  Numerals that do not fall under another type\n",
            "15 days  <-------------  DATE  =  Absolute or relative dates or periods\n",
            "Eid  <-------------  LOC  =  Non-GPE locations, mountain ranges, bodies of water\n",
            "46 percent  <-------------  PERCENT  =  Percentage, including \"%\"\n",
            "33 percent  <-------------  PERCENT  =  Percentage, including \"%\"\n",
            "the same period last year  <-------------  DATE  =  Absolute or relative dates or periods\n",
            "Jatri Kalyan Samity  <-------------  PERSON  =  People, including fictional\n",
            "seven days  <-------------  DATE  =  Absolute or relative dates or periods\n",
            "131  <-------------  CARDINAL  =  Numerals that do not fall under another type\n",
            "the last seven years  <-------------  DATE  =  Absolute or relative dates or periods\n",
            "Eid  <-------------  LOC  =  Non-GPE locations, mountain ranges, bodies of water\n",
            "Mozammel Hoque Chowdhury  <-------------  PERSON  =  People, including fictional\n",
            "Samity  <-------------  ORG  =  Companies, agencies, institutions, etc.\n",
            "Dhaka Reporters'  <-------------  ORG  =  Companies, agencies, institutions, etc.\n",
            "yesterday  <-------------  DATE  =  Absolute or relative dates or periods\n",
            "Hossain Zillur Rahman  <-------------  PERSON  =  People, including fictional\n",
            "Safe Road and Transport Alliance  <-------------  ORG  =  Companies, agencies, institutions, etc.\n",
            "Bangladesh  <-------------  GPE  =  Countries, cities, states\n",
            "the years  <-------------  DATE  =  Absolute or relative dates or periods\n",
            "30 percent  <-------------  PERCENT  =  Percentage, including \"%\"\n",
            "last year  <-------------  DATE  =  Absolute or relative dates or periods\n",
            "a year before  <-------------  DATE  =  Absolute or relative dates or periods\n",
            "Eid  <-------------  DATE  =  Absolute or relative dates or periods\n",
            "Samity  <-------------  ORG  =  Companies, agencies, institutions, etc.\n",
            "DAILY\n",
            "\n",
            "Mozammel  <-------------  PRODUCT  =  Objects, vehicles, foods, etc. (not services)\n",
            "around 1.20  <-------------  CARDINAL  =  Numerals that do not fall under another type\n",
            "Dhaka  <-------------  ORG  =  Companies, agencies, institutions, etc.\n",
            "Eid  <-------------  LOC  =  Non-GPE locations, mountain ranges, bodies of water\n",
            "4  <-------------  CARDINAL  =  Numerals that do not fall under another type\n",
            "one  <-------------  CARDINAL  =  Numerals that do not fall under another type\n",
            "Eid  <-------------  DATE  =  Absolute or relative dates or periods\n",
            "Mozammel  <-------------  ORG  =  Companies, agencies, institutions, etc.\n",
            "up to 20 hours  <-------------  TIME  =  Times smaller than a day\n",
            "at least 398  <-------------  CARDINAL  =  Numerals that do not fall under another type\n",
            "319  <-------------  CARDINAL  =  Numerals that do not fall under another type\n",
            "15 days  <-------------  DATE  =  Absolute or relative dates or periods\n",
            "July 3 to 17  <-------------  DATE  =  Absolute or relative dates or periods\n",
            "nearly 27  <-------------  CARDINAL  =  Numerals that do not fall under another type\n",
            "the same period last year  <-------------  DATE  =  Absolute or relative dates or periods\n",
            "273  <-------------  CARDINAL  =  Numerals that do not fall under another type\n",
            "240  <-------------  CARDINAL  =  Numerals that do not fall under another type\n",
            "Twenty-five  <-------------  CARDINAL  =  Numerals that do not fall under another type\n",
            "25  <-------------  CARDINAL  =  Numerals that do not fall under another type\n",
            "17  <-------------  CARDINAL  =  Numerals that do not fall under another type\n",
            "10  <-------------  CARDINAL  =  Numerals that do not fall under another type\n",
            "At least 131  <-------------  CARDINAL  =  Numerals that do not fall under another type\n",
            "68  <-------------  CARDINAL  =  Numerals that do not fall under another type\n",
            "113  <-------------  CARDINAL  =  Numerals that do not fall under another type\n",
            "35.42 percent  <-------------  PERCENT  =  Percentage, including \"%\"\n",
            "32.91 percent  <-------------  PERCENT  =  Percentage, including \"%\"\n",
            "157  <-------------  CARDINAL  =  Numerals that do not fall under another type\n",
            "106  <-------------  CARDINAL  =  Numerals that do not fall under another type\n",
            "62  <-------------  CARDINAL  =  Numerals that do not fall under another type\n",
            "51  <-------------  CARDINAL  =  Numerals that do not fall under another type\n",
            "23.19 percent  <-------------  PERCENT  =  Percentage, including \"%\"\n",
            "50.78 percent  <-------------  PERCENT  =  Percentage, including \"%\"\n",
            "18.49 percent  <-------------  PERCENT  =  Percentage, including \"%\"\n",
            "Kazi  <-------------  PERSON  =  People, including fictional\n",
            "Md Shifun Newaz  <-------------  FAC  =  Buildings, airports, highways, bridges, etc.\n",
            "Accident Research Institute of Buet  <-------------  ORG  =  Companies, agencies, institutions, etc.\n",
            "eight to 10 days  <-------------  DATE  =  Absolute or relative dates or periods\n",
            "Hossain Zillur  <-------------  PERSON  =  People, including fictional\n"
          ]
        }
      ]
    },
    {
      "cell_type": "code",
      "source": [
        "spacy.explain(\"ORG\")\n"
      ],
      "metadata": {
        "id": "FADrALnha-r7",
        "colab": {
          "base_uri": "https://localhost:8080/",
          "height": 36
        },
        "outputId": "18ee3715-7027-47bd-8831-d1cecba9d0f3"
      },
      "execution_count": null,
      "outputs": [
        {
          "output_type": "execute_result",
          "data": {
            "text/plain": [
              "'Companies, agencies, institutions, etc.'"
            ],
            "application/vnd.google.colaboratory.intrinsic+json": {
              "type": "string"
            }
          },
          "metadata": {},
          "execution_count": 36
        }
      ]
    },
    {
      "cell_type": "code",
      "source": [
        "spacy.explain(\"GPE\")"
      ],
      "metadata": {
        "id": "dmUGFVFRbF6z",
        "colab": {
          "base_uri": "https://localhost:8080/",
          "height": 36
        },
        "outputId": "8fbceb21-5fd4-4e1d-b368-b255abeedfcd"
      },
      "execution_count": null,
      "outputs": [
        {
          "output_type": "execute_result",
          "data": {
            "text/plain": [
              "'Countries, cities, states'"
            ],
            "application/vnd.google.colaboratory.intrinsic+json": {
              "type": "string"
            }
          },
          "metadata": {},
          "execution_count": 37
        }
      ]
    }
  ]
}