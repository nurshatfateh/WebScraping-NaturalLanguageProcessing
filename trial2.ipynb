{
  "nbformat": 4,
  "nbformat_minor": 0,
  "metadata": {
    "colab": {
      "provenance": [],
      "collapsed_sections": [],
      "authorship_tag": "ABX9TyPIiO9yjSLNHr7rnBCZYVF+",
      "include_colab_link": true
    },
    "kernelspec": {
      "name": "python3",
      "display_name": "Python 3"
    },
    "language_info": {
      "name": "python"
    }
  },
  "cells": [
    {
      "cell_type": "markdown",
      "metadata": {
        "id": "view-in-github",
        "colab_type": "text"
      },
      "source": [
        "<a href=\"https://colab.research.google.com/github/nurshatfateh/WebScraping-NaturalLanguageProcessing/blob/main/trial2.ipynb\" target=\"_parent\"><img src=\"https://colab.research.google.com/assets/colab-badge.svg\" alt=\"Open In Colab\"/></a>"
      ]
    },
    {
      "cell_type": "code",
      "execution_count": 280,
      "metadata": {
        "id": "Wx2piGF43nEi"
      },
      "outputs": [],
      "source": [
        "import requests\n",
        "import json\n",
        "import pandas\n",
        "import spacy\n",
        "from spacy.matcher import Matcher"
      ]
    },
    {
      "cell_type": "code",
      "source": [
        "!pip install newspaper3k"
      ],
      "metadata": {
        "colab": {
          "base_uri": "https://localhost:8080/"
        },
        "id": "Chw4wZ0mg34p",
        "outputId": "ace68e98-dacb-491c-ce82-f1004f842d69"
      },
      "execution_count": 281,
      "outputs": [
        {
          "output_type": "stream",
          "name": "stdout",
          "text": [
            "Looking in indexes: https://pypi.org/simple, https://us-python.pkg.dev/colab-wheels/public/simple/\n",
            "Requirement already satisfied: newspaper3k in /usr/local/lib/python3.7/dist-packages (0.2.8)\n",
            "Requirement already satisfied: requests>=2.10.0 in /usr/local/lib/python3.7/dist-packages (from newspaper3k) (2.23.0)\n",
            "Requirement already satisfied: lxml>=3.6.0 in /usr/local/lib/python3.7/dist-packages (from newspaper3k) (4.9.1)\n",
            "Requirement already satisfied: feedparser>=5.2.1 in /usr/local/lib/python3.7/dist-packages (from newspaper3k) (6.0.10)\n",
            "Requirement already satisfied: python-dateutil>=2.5.3 in /usr/local/lib/python3.7/dist-packages (from newspaper3k) (2.8.2)\n",
            "Requirement already satisfied: feedfinder2>=0.0.4 in /usr/local/lib/python3.7/dist-packages (from newspaper3k) (0.0.4)\n",
            "Requirement already satisfied: beautifulsoup4>=4.4.1 in /usr/local/lib/python3.7/dist-packages (from newspaper3k) (4.6.3)\n",
            "Requirement already satisfied: tinysegmenter==0.3 in /usr/local/lib/python3.7/dist-packages (from newspaper3k) (0.3)\n",
            "Requirement already satisfied: cssselect>=0.9.2 in /usr/local/lib/python3.7/dist-packages (from newspaper3k) (1.2.0)\n",
            "Requirement already satisfied: tldextract>=2.0.1 in /usr/local/lib/python3.7/dist-packages (from newspaper3k) (3.4.0)\n",
            "Requirement already satisfied: nltk>=3.2.1 in /usr/local/lib/python3.7/dist-packages (from newspaper3k) (3.7)\n",
            "Requirement already satisfied: PyYAML>=3.11 in /usr/local/lib/python3.7/dist-packages (from newspaper3k) (6.0)\n",
            "Requirement already satisfied: Pillow>=3.3.0 in /usr/local/lib/python3.7/dist-packages (from newspaper3k) (7.1.2)\n",
            "Requirement already satisfied: jieba3k>=0.35.1 in /usr/local/lib/python3.7/dist-packages (from newspaper3k) (0.35.1)\n",
            "Requirement already satisfied: six in /usr/local/lib/python3.7/dist-packages (from feedfinder2>=0.0.4->newspaper3k) (1.15.0)\n",
            "Requirement already satisfied: sgmllib3k in /usr/local/lib/python3.7/dist-packages (from feedparser>=5.2.1->newspaper3k) (1.0.0)\n",
            "Requirement already satisfied: click in /usr/local/lib/python3.7/dist-packages (from nltk>=3.2.1->newspaper3k) (7.1.2)\n",
            "Requirement already satisfied: tqdm in /usr/local/lib/python3.7/dist-packages (from nltk>=3.2.1->newspaper3k) (4.64.1)\n",
            "Requirement already satisfied: joblib in /usr/local/lib/python3.7/dist-packages (from nltk>=3.2.1->newspaper3k) (1.2.0)\n",
            "Requirement already satisfied: regex>=2021.8.3 in /usr/local/lib/python3.7/dist-packages (from nltk>=3.2.1->newspaper3k) (2022.6.2)\n",
            "Requirement already satisfied: urllib3!=1.25.0,!=1.25.1,<1.26,>=1.21.1 in /usr/local/lib/python3.7/dist-packages (from requests>=2.10.0->newspaper3k) (1.24.3)\n",
            "Requirement already satisfied: chardet<4,>=3.0.2 in /usr/local/lib/python3.7/dist-packages (from requests>=2.10.0->newspaper3k) (3.0.4)\n",
            "Requirement already satisfied: certifi>=2017.4.17 in /usr/local/lib/python3.7/dist-packages (from requests>=2.10.0->newspaper3k) (2022.9.24)\n",
            "Requirement already satisfied: idna<3,>=2.5 in /usr/local/lib/python3.7/dist-packages (from requests>=2.10.0->newspaper3k) (2.10)\n",
            "Requirement already satisfied: requests-file>=1.4 in /usr/local/lib/python3.7/dist-packages (from tldextract>=2.0.1->newspaper3k) (1.5.1)\n",
            "Requirement already satisfied: filelock>=3.0.8 in /usr/local/lib/python3.7/dist-packages (from tldextract>=2.0.1->newspaper3k) (3.8.0)\n"
          ]
        }
      ]
    },
    {
      "cell_type": "code",
      "source": [
        "import newspaper\n",
        "from newspaper import Article"
      ],
      "metadata": {
        "id": "z5P6MwgUg4yC"
      },
      "execution_count": 282,
      "outputs": []
    },
    {
      "cell_type": "code",
      "source": [
        "nlp = spacy.load('en_core_web_sm')"
      ],
      "metadata": {
        "id": "hsBuAn6ghApH"
      },
      "execution_count": 283,
      "outputs": []
    },
    {
      "cell_type": "code",
      "source": [
        "def extract_article_from_url(url):\n",
        "  a = Article(url)\n",
        "  a.download()\n",
        "  a.parse()\n",
        "  return a.text, a.publish_date\n"
      ],
      "metadata": {
        "id": "IqojXQBPhCY8"
      },
      "execution_count": 284,
      "outputs": []
    },
    {
      "cell_type": "code",
      "source": [
        "def sentence_giver(doc, start, end):\n",
        "  s = start\n",
        "  while str(doc[s]) != '.':\n",
        "    s = s - 1\n",
        "    if s < 0:\n",
        "      break\n",
        "  e = end\n",
        "  while str(doc[e]) != '.':\n",
        "    e = e + 1\n",
        "    if e > len(doc) - 1:\n",
        "      break\n",
        "  return str(doc[s+1:e])"
      ],
      "metadata": {
        "id": "Pe-H-oC-hHNf"
      },
      "execution_count": 285,
      "outputs": []
    },
    {
      "cell_type": "code",
      "source": [
        "def location_finder(doc):\n",
        "  locations = []\n",
        "  sentences = []\n",
        "  matcher = Matcher(nlp.vocab)\n",
        "  pattern = [{\"ENT_TYPE\": \"GPE\"}]\n",
        "  matcher.add(\"Location\", [pattern])\n",
        "  matches = matcher(doc)\n",
        "  for match_id, start, end in matches:\n",
        "    sentence = sentence_giver(doc, start, end)\n",
        "    value = l_detail_filter(sentence)\n",
        "    if value == 1:\n",
        "      sentences.append(sentence)\n",
        "      locations.append(doc[start:end])\n",
        "  return locations, sentences\n",
        "\n",
        "def l_detail_filter(data):\n",
        "  data = nlp(data)\n",
        "  matcher = Matcher(nlp.vocab)\n",
        "  pattern1 = [{\"LEMMA\": \"accident\", \"POS\": \"VERB\"},{\"LOWER\": \"in\"}]\n",
        "  pattern2 = [{\"LEMMA\": \"die\", \"POS\": \"VERB\"},{\"LOWER\": \"in\"}]\n",
        "  pattern3 = [{\"LEMMA\": \"collide\", \"POS\": \"VERB\"},{\"LOWER\": \"in\"}]\n",
        "  pattern4 = [{\"LEMMA\": \"crash\", \"POS\": \"VERB\"},{\"LOWER\": \"in\"}]\n",
        "  pattern5 = [{\"LEMMA\": \"kill\", \"POS\": \"VERB\"},{\"LOWER\": \"in\"}]\n",
        "  pattern0 = [{\"LOWER\": \"in\"}]\n",
        "\n",
        "  matcher.add(\"N_Filter\", [pattern1])\n",
        "  matches = matcher(data)\n",
        "  if len(matches) != 0:\n",
        "    return 1\n",
        "  else:\n",
        "    matcher.add(\"N_Filter\", [pattern2])\n",
        "    matches = matcher(data)\n",
        "    if len(matches) != 0:\n",
        "      return 1\n",
        "    else:\n",
        "      matcher.add(\"N_Filter\", [pattern3])\n",
        "      matches = matcher(data)\n",
        "      if len(matches) != 0:\n",
        "        return 1\n",
        "      else:\n",
        "        matcher.add(\"N_Filter\", [pattern4])\n",
        "        matches = matcher(data)\n",
        "        if len(matches) != 0:\n",
        "          return 1\n",
        "        else:\n",
        "          matcher.add(\"N_Filter\", [pattern5])\n",
        "          matches = matcher(data)\n",
        "          if len(matches) != 0:\n",
        "            return 1\n",
        "          else:\n",
        "            matcher.add(\"N_Filter\", [pattern0])\n",
        "            matches = matcher(data)\n",
        "            if len(matches) != 0:\n",
        "              return 1\n",
        "            else:\n",
        "              return 0"
      ],
      "metadata": {
        "id": "8KBEqkf5hJYu"
      },
      "execution_count": 286,
      "outputs": []
    },
    {
      "cell_type": "code",
      "source": [
        "def number_finder(doc):\n",
        "  numbers = []\n",
        "  sentences = []\n",
        "  matcher = Matcher(nlp.vocab)\n",
        "  pattern = [{\"LIKE_NUM\": True}]\n",
        "  matcher.add(\"Number\", [pattern])\n",
        "  matches = matcher(doc)\n",
        "  for match_id, start, end in matches:\n",
        "    sentence = sentence_giver(doc, start, end)\n",
        "    value = n_detail_filter(sentence)\n",
        "    if value == 1:\n",
        "      sentences.append(sentence)\n",
        "      numbers.append(str(doc[start:end]))\n",
        "  return numbers, sentences\n",
        "\n",
        "def n_detail_filter(data):\n",
        "  data = nlp(data)\n",
        "  matcher = Matcher(nlp.vocab)\n",
        "  pattern1 = [{\"LEMMA\": \"kill\", \"POS\": \"VERB\"}]\n",
        "  pattern2 = [{\"LEMMA\": \"die\", \"POS\": \"VERB\"}]\n",
        "\n",
        "\n",
        "  matcher.add(\"N_Filter\", [pattern1])\n",
        "  matches = matcher(data)\n",
        "  if len(matches) != 0:\n",
        "    return 1\n",
        "  else:\n",
        "    matcher.add(\"N_Filter\", [pattern2])\n",
        "    matches = matcher(data)\n",
        "    if len(matches) != 0:\n",
        "      return 1\n",
        "    else:\n",
        "      return 0\n",
        "        \n",
        "    "
      ],
      "metadata": {
        "id": "TGp6qxpUiylT"
      },
      "execution_count": 287,
      "outputs": []
    },
    {
      "cell_type": "code",
      "source": [
        "link = 'https://www.ndtv.com/india-news/2-cops-killed-as-speeding-truck-hits-bike-in-bihar-3472041'\n",
        "content, date = extract_article_from_url(link)\n",
        "doc = nlp(content)\n",
        "\n",
        "\n",
        "l_places, l_s = location_finder(doc)\n",
        "print(\"ACCIDENT LOCATION: \",l_places)\n",
        "print(l_s)\n",
        "\n",
        "n_people, n_s = number_finder(doc)\n",
        "if len(n_s)==0:\n",
        "  print(\"DEATH NUMBER: \",1)\n",
        "else:\n",
        "  print(\"DEATH NUMBER: \",n_people[0])\n",
        "print(n_s)\n",
        "\n",
        "print(\"RELATED VEHICLES: \")\n",
        "vehicle = ['truck','bus','car','bike','cycle','rickshaw','tempo']\n",
        "for i in vehicle:\n",
        "  for j in doc.text.split():\n",
        "    if i in j:\n",
        "      if j!='carrying':\n",
        "        print(j)\n",
        "        break\n",
        "      \n",
        "\n",
        "\n",
        "\n",
        "\n",
        "\n",
        "\n",
        "  \n",
        "\n"
      ],
      "metadata": {
        "colab": {
          "base_uri": "https://localhost:8080/"
        },
        "id": "dIHYXOcPhS7G",
        "outputId": "2ef3536e-6133-40bc-8f50-feec2e193d4b"
      },
      "execution_count": 288,
      "outputs": [
        {
          "output_type": "stream",
          "name": "stdout",
          "text": [
            "ACCIDENT LOCATION:  [Bihar, Bhojpur]\n",
            "[\"(Representational)\\n\\nTwo policemen were killed today after the motorcycle they were riding was knocked down by a truck in Bihar's Bhojpur district, an officer said\", \"(Representational)\\n\\nTwo policemen were killed today after the motorcycle they were riding was knocked down by a truck in Bihar's Bhojpur district, an officer said\"]\n",
            "DEATH NUMBER:  Two\n",
            "[\"(Representational)\\n\\nTwo policemen were killed today after the motorcycle they were riding was knocked down by a truck in Bihar's Bhojpur district, an officer said\"]\n",
            "RELATED VEHICLES: \n",
            "truck\n",
            "motorcycle\n"
          ]
        }
      ]
    },
    {
      "cell_type": "code",
      "source": [
        "link = 'https://www.ndtv.com/india-news/cctv-shows-truck-losing-control-on-road-in-up-3-dead-as-it-rams-auto-3463172'\n",
        "content, date = extract_article_from_url(link)\n",
        "doc = nlp(content)\n",
        "\n",
        "\n",
        "l_places, l_s = location_finder(doc)\n",
        "print(\"ACCIDENT LOCATION: \",l_places)\n",
        "print(l_s)\n",
        "\n",
        "n_people, n_s = number_finder(doc)\n",
        "if len(n_s)==0:\n",
        "  print(\"DEATH NUMBER: \",1)\n",
        "else:\n",
        "  print(\"DEATH NUMBER: \",n_people[0])\n",
        "print(n_s)\n",
        "\n",
        "print(\"RELATED VEHICLES: \")\n",
        "vehicle = ['truck','bus','car','bike','cycle','rickshaw','tempo']\n",
        "for i in vehicle:\n",
        "  for j in doc.text.split():\n",
        "    if i in j:\n",
        "      if j!='carrying':\n",
        "        print(j)\n",
        "        break"
      ],
      "metadata": {
        "colab": {
          "base_uri": "https://localhost:8080/"
        },
        "id": "5bNOCooMnNr8",
        "outputId": "58c3cbc1-6fe1-431b-b584-a312dfc7e377"
      },
      "execution_count": 289,
      "outputs": [
        {
          "output_type": "stream",
          "name": "stdout",
          "text": [
            "ACCIDENT LOCATION:  [Bardah]\n",
            "[\"\\n\\nAccording to the police, the accident occurred near Thekma in Azamgarh's Bardah around 10 pm on Tuesday\"]\n",
            "DEATH NUMBER:  Three\n",
            "[\"\\n\\nThree people died and four others were injured after a loader truck collided with an autorickshaw in Uttar Pradesh's Azamgarh on Tuesday night\", \"\\n\\nThree people died and four others were injured after a loader truck collided with an autorickshaw in Uttar Pradesh's Azamgarh on Tuesday night\", 'A 17-year-old girl died on the spot while those injured were rushed to a nearby hospital where later, a child and an elderly man also died of injuries,\" said a police official']\n",
            "RELATED VEHICLES: \n",
            "truck\n",
            "autorickshaw\n"
          ]
        }
      ]
    },
    {
      "cell_type": "code",
      "source": [
        "link = 'https://www.ndtv.com/india-news/4-dead-after-2-motorcycles-collide-in-uttar-pradesh-police-3460331'\n",
        "content, date = extract_article_from_url(link)\n",
        "doc = nlp(content)\n",
        "\n",
        "\n",
        "l_places, l_s = location_finder(doc)\n",
        "print(\"ACCIDENT LOCATION: \",l_places)\n",
        "print(l_s)\n",
        "\n",
        "n_people, n_s = number_finder(doc)\n",
        "if len(n_s)==0:\n",
        "  print(\"DEATH NUMBER: \",1)\n",
        "else:\n",
        "  print(\"DEATH NUMBER: \",n_people[0])\n",
        "print(n_s)\n",
        "\n",
        "print(\"RELATED VEHICLES: \")\n",
        "vehicle = ['truck','bus','car','bike','cycle','rickshaw','tempo']\n",
        "for i in vehicle:\n",
        "  for j in doc.text.split():\n",
        "    if i in j:\n",
        "      if j!='carrying':\n",
        "        print(j)\n",
        "        break\n",
        "\n",
        "\n",
        "      "
      ],
      "metadata": {
        "colab": {
          "base_uri": "https://localhost:8080/"
        },
        "id": "KtRmJs72oZwE",
        "outputId": "311fbfdb-b529-401c-80bb-71179ee3ef7b"
      },
      "execution_count": 290,
      "outputs": [
        {
          "output_type": "stream",
          "name": "stdout",
          "text": [
            "ACCIDENT LOCATION:  [Shyamdeura]\n",
            "['\\n\\nFour persons were killed while another was injured when two motorcycles collided on the Maharajganj-Gorakhpur road in Shyamdeura area, police said on Tuesday']\n",
            "DEATH NUMBER:  Four\n",
            "['\\n\\nFour persons were killed while another was injured when two motorcycles collided on the Maharajganj-Gorakhpur road in Shyamdeura area, police said on Tuesday', '\\n\\nFour persons were killed while another was injured when two motorcycles collided on the Maharajganj-Gorakhpur road in Shyamdeura area, police said on Tuesday']\n",
            "RELATED VEHICLES: \n",
            "bike\n",
            "motorcycles\n"
          ]
        }
      ]
    },
    {
      "cell_type": "code",
      "source": [
        "link = 'https://www.ndtv.com/mumbai-news/boy-12-killed-in-mumbai-after-being-run-over-by-bus-driver-arrested-3453328'\n",
        "content, date = extract_article_from_url(link)\n",
        "doc = nlp(content)\n",
        "\n",
        "\n",
        "l_places, l_s = location_finder(doc)\n",
        "print(\"ACCIDENT LOCATION: \",l_places)\n",
        "print(l_s)\n",
        "\n",
        "n_people, n_s = number_finder(doc)\n",
        "if len(n_s)==0:\n",
        "  print(\"DEATH NUMBER: \",1)\n",
        "else:\n",
        "  print(\"DEATH NUMBER: \",n_people[0])\n",
        "print(n_s)\n",
        "\n",
        "print(\"RELATED VEHICLES: \")\n",
        "vehicle = ['truck','bus','car','bike','cycle','rickshaw','tempo']\n",
        "for i in vehicle:\n",
        "  for j in doc.text.split():\n",
        "    if i in j:\n",
        "      if j!='carrying':\n",
        "        print(j)\n",
        "        break"
      ],
      "metadata": {
        "colab": {
          "base_uri": "https://localhost:8080/"
        },
        "id": "_oF6M6xNqQ3b",
        "outputId": "24c0b3a2-135a-4697-e3a1-127bf65c70fa"
      },
      "execution_count": 291,
      "outputs": [
        {
          "output_type": "stream",
          "name": "stdout",
          "text": [
            "ACCIDENT LOCATION:  [Shivajinagar]\n",
            "['\\n\\nThe accident took place near Nurani Masjid in Shivajinagar area on Thursday evening, an official said']\n",
            "DEATH NUMBER:  1\n",
            "[]\n",
            "RELATED VEHICLES: \n",
            "bus\n"
          ]
        }
      ]
    },
    {
      "cell_type": "code",
      "source": [
        "link = 'https://www.ndtv.com/india-news/4-killed-after-bus-carrying-pilgrims-overturns-in-jharkhand-police-3396586'\n",
        "content, date = extract_article_from_url(link)\n",
        "doc = nlp(content)\n",
        "\n",
        "l_places, l_s = location_finder(doc)\n",
        "print(\"ACCIDENT LOCATION: \",l_places)\n",
        "print(l_s)\n",
        "\n",
        "n_people, n_s = number_finder(doc)\n",
        "if len(n_s)==0:\n",
        "  print(\"DEATH NUMBER: \",1)\n",
        "else:\n",
        "  print(\"DEATH NUMBER: \",n_people[0])\n",
        "print(n_s)\n",
        "\n",
        "print(\"RELATED VEHICLES: \")\n",
        "vehicle = ['truck','bus','car','bike','cycle','rickshaw','tempo']\n",
        "for i in vehicle:\n",
        "  for j in doc.text.split():\n",
        "    if i in j:\n",
        "      if j!='carrying':\n",
        "        print(j)\n",
        "        break\n",
        "      "
      ],
      "metadata": {
        "colab": {
          "base_uri": "https://localhost:8080/"
        },
        "id": "0Jmrzmqhrrjd",
        "outputId": "7cd73ac1-15a0-42ed-90d4-61f3d1eb7aa7"
      },
      "execution_count": 279,
      "outputs": [
        {
          "output_type": "stream",
          "name": "stdout",
          "text": [
            "ACCIDENT LOCATION:  [Hazaribag, district]\n",
            "['\\n\\nFour people were killed and 25 others injured when the bus they were travelling in overturned in Hazaribag district, a senior police officer said', '\\n\\nFour people were killed and 25 others injured when the bus they were travelling in overturned in Hazaribag district, a senior police officer said']\n",
            "DEATH NUMBER:  Four\n",
            "['\\n\\nFour people were killed and 25 others injured when the bus they were travelling in overturned in Hazaribag district, a senior police officer said', '\\n\\nFour people were killed and 25 others injured when the bus they were travelling in overturned in Hazaribag district, a senior police officer said']\n",
            "RELATED VEHICLES: \n",
            "bus\n"
          ]
        }
      ]
    }
  ]
}