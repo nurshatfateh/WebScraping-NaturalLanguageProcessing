{
  "nbformat": 4,
  "nbformat_minor": 0,
  "metadata": {
    "colab": {
      "name": "nurshat3_nlp_article_analysis.ipynb",
      "provenance": [],
      "authorship_tag": "ABX9TyPxNtXD8SwGJuB48/8246ZY",
      "include_colab_link": true
    },
    "kernelspec": {
      "name": "python3",
      "display_name": "Python 3"
    },
    "language_info": {
      "name": "python"
    }
  },
  "cells": [
    {
      "cell_type": "markdown",
      "metadata": {
        "id": "view-in-github",
        "colab_type": "text"
      },
      "source": [
        "<a href=\"https://colab.research.google.com/github/nurshatfateh/WebScraping-NLP/blob/main/nurshat3_nlp_article_analysis.ipynb\" target=\"_parent\"><img src=\"https://colab.research.google.com/assets/colab-badge.svg\" alt=\"Open In Colab\"/></a>"
      ]
    },
    {
      "cell_type": "markdown",
      "source": [
        "DESCRIPTION: Using newspaper3k and nltk to find title, keywords and summary of a given article link "
      ],
      "metadata": {
        "id": "xCGWy1xp3-Rd"
      }
    },
    {
      "cell_type": "code",
      "execution_count": null,
      "metadata": {
        "colab": {
          "base_uri": "https://localhost:8080/"
        },
        "id": "b40GRkDQB8fT",
        "outputId": "4ee41eb4-1652-4d3d-f4b6-2ebdeb323781"
      },
      "outputs": [
        {
          "output_type": "stream",
          "name": "stdout",
          "text": [
            "Looking in indexes: https://pypi.org/simple, https://us-python.pkg.dev/colab-wheels/public/simple/\n",
            "Requirement already satisfied: newspaper3k in /usr/local/lib/python3.7/dist-packages (0.2.8)\n",
            "Requirement already satisfied: tinysegmenter==0.3 in /usr/local/lib/python3.7/dist-packages (from newspaper3k) (0.3)\n",
            "Requirement already satisfied: feedparser>=5.2.1 in /usr/local/lib/python3.7/dist-packages (from newspaper3k) (6.0.10)\n",
            "Requirement already satisfied: jieba3k>=0.35.1 in /usr/local/lib/python3.7/dist-packages (from newspaper3k) (0.35.1)\n",
            "Requirement already satisfied: beautifulsoup4>=4.4.1 in /usr/local/lib/python3.7/dist-packages (from newspaper3k) (4.6.3)\n",
            "Requirement already satisfied: requests>=2.10.0 in /usr/local/lib/python3.7/dist-packages (from newspaper3k) (2.23.0)\n",
            "Requirement already satisfied: Pillow>=3.3.0 in /usr/local/lib/python3.7/dist-packages (from newspaper3k) (7.1.2)\n",
            "Requirement already satisfied: tldextract>=2.0.1 in /usr/local/lib/python3.7/dist-packages (from newspaper3k) (3.3.0)\n",
            "Requirement already satisfied: nltk>=3.2.1 in /usr/local/lib/python3.7/dist-packages (from newspaper3k) (3.7)\n",
            "Requirement already satisfied: cssselect>=0.9.2 in /usr/local/lib/python3.7/dist-packages (from newspaper3k) (1.1.0)\n",
            "Requirement already satisfied: python-dateutil>=2.5.3 in /usr/local/lib/python3.7/dist-packages (from newspaper3k) (2.8.2)\n",
            "Requirement already satisfied: PyYAML>=3.11 in /usr/local/lib/python3.7/dist-packages (from newspaper3k) (3.13)\n",
            "Requirement already satisfied: feedfinder2>=0.0.4 in /usr/local/lib/python3.7/dist-packages (from newspaper3k) (0.0.4)\n",
            "Requirement already satisfied: lxml>=3.6.0 in /usr/local/lib/python3.7/dist-packages (from newspaper3k) (4.2.6)\n",
            "Requirement already satisfied: six in /usr/local/lib/python3.7/dist-packages (from feedfinder2>=0.0.4->newspaper3k) (1.15.0)\n",
            "Requirement already satisfied: sgmllib3k in /usr/local/lib/python3.7/dist-packages (from feedparser>=5.2.1->newspaper3k) (1.0.0)\n",
            "Requirement already satisfied: tqdm in /usr/local/lib/python3.7/dist-packages (from nltk>=3.2.1->newspaper3k) (4.64.0)\n",
            "Requirement already satisfied: click in /usr/local/lib/python3.7/dist-packages (from nltk>=3.2.1->newspaper3k) (7.1.2)\n",
            "Requirement already satisfied: joblib in /usr/local/lib/python3.7/dist-packages (from nltk>=3.2.1->newspaper3k) (1.1.0)\n",
            "Requirement already satisfied: regex>=2021.8.3 in /usr/local/lib/python3.7/dist-packages (from nltk>=3.2.1->newspaper3k) (2022.6.2)\n",
            "Requirement already satisfied: certifi>=2017.4.17 in /usr/local/lib/python3.7/dist-packages (from requests>=2.10.0->newspaper3k) (2022.6.15)\n",
            "Requirement already satisfied: urllib3!=1.25.0,!=1.25.1,<1.26,>=1.21.1 in /usr/local/lib/python3.7/dist-packages (from requests>=2.10.0->newspaper3k) (1.24.3)\n",
            "Requirement already satisfied: idna<3,>=2.5 in /usr/local/lib/python3.7/dist-packages (from requests>=2.10.0->newspaper3k) (2.10)\n",
            "Requirement already satisfied: chardet<4,>=3.0.2 in /usr/local/lib/python3.7/dist-packages (from requests>=2.10.0->newspaper3k) (3.0.4)\n",
            "Requirement already satisfied: filelock>=3.0.8 in /usr/local/lib/python3.7/dist-packages (from tldextract>=2.0.1->newspaper3k) (3.7.1)\n",
            "Requirement already satisfied: requests-file>=1.4 in /usr/local/lib/python3.7/dist-packages (from tldextract>=2.0.1->newspaper3k) (1.5.1)\n"
          ]
        }
      ],
      "source": [
        "pip install newspaper3k"
      ]
    },
    {
      "cell_type": "code",
      "source": [
        "import pandas as pd\n",
        "from newspaper import Article"
      ],
      "metadata": {
        "id": "CYaNDGqSCM5l"
      },
      "execution_count": null,
      "outputs": []
    },
    {
      "cell_type": "code",
      "source": [
        "link='https://www.thedailystar.net/news/asia/news/south-korea-becomes-7th-nation-join-elite-space-club-3052926'\n",
        "article=Article(link)\n",
        "article.download()\n",
        "article.parse()"
      ],
      "metadata": {
        "id": "E1gh2UcoCcrt"
      },
      "execution_count": null,
      "outputs": []
    },
    {
      "cell_type": "code",
      "source": [
        "article.title"
      ],
      "metadata": {
        "colab": {
          "base_uri": "https://localhost:8080/",
          "height": 36
        },
        "id": "AhRpB_sbDAuD",
        "outputId": "1a72d8d3-133c-4ed1-81b1-a093da97e8ca"
      },
      "execution_count": null,
      "outputs": [
        {
          "output_type": "execute_result",
          "data": {
            "text/plain": [
              "'South Korea becomes 7th nation to join elite space club'"
            ],
            "application/vnd.google.colaboratory.intrinsic+json": {
              "type": "string"
            }
          },
          "metadata": {},
          "execution_count": 4
        }
      ]
    },
    {
      "cell_type": "code",
      "source": [
        "article.publish_date"
      ],
      "metadata": {
        "colab": {
          "base_uri": "https://localhost:8080/"
        },
        "id": "Cvja18HYDEnv",
        "outputId": "c4bb3662-7469-4514-bac0-755940b70218"
      },
      "execution_count": null,
      "outputs": [
        {
          "output_type": "execute_result",
          "data": {
            "text/plain": [
              "datetime.datetime(2022, 6, 21, 20, 0, 39, tzinfo=tzoffset(None, 21600))"
            ]
          },
          "metadata": {},
          "execution_count": 5
        }
      ]
    },
    {
      "cell_type": "code",
      "source": [
        "article.text"
      ],
      "metadata": {
        "colab": {
          "base_uri": "https://localhost:8080/",
          "height": 123
        },
        "id": "OoX557JYDK1H",
        "outputId": "5e4a1ca1-90d8-430f-c371-0bce803b4eaa"
      },
      "execution_count": null,
      "outputs": [
        {
          "output_type": "execute_result",
          "data": {
            "text/plain": [
              "\"The successful launch of South Korea's homegrown space rocket Nuri, officially the Korea Space Launch Vehicle-II, on Tuesday added the country as the seventh nation in the world to have developed a space launch vehicle that can carry a satellite of more than 1 ton. The list begins with Russia, the US and France. China, Japan and India later joined the exclusive club of spacefaring nations.\\n\\nSince initiating its first space rocket development mission in the early 1990s, it took nearly 30 years for Asia's fourth-largest economy to prove its capability to develop and a launch space vehicle a carrying homegrown satellite. The progress in the country's space technology is expected to further boost its ambition to land on the moon by 2031.\\n\\nThe complete success comes eight months after the partial success that was made with the first attempted Nuri rocket launch, which flew to a target altitude of 700 kilometers but failed to put a 1.5-ton dummy satellite into orbit as its third-stage engine burned out earlier than expected. But this marked an important turning point for South Korea, as the entire process including design, manufacturing, testing and launch were carried out with pure domestic technology.\\n\\nWith the investment of 1.96 trillion won ($1.52 billion) in the development of Nuri since 2010, more than 300 domestic companies, including Hanwha Aerospace, have participated in developing and assembling the rocket.\\n\\nA latecomer\\n\\nSouth Korea is a relative latecomer to the global space development race.\\n\\nThe country's rocket development program had been restricted by 1979 bilateral missile guidelines from the US, which were reiterated in 1990. In 1999, the US scrapped limits on the range for private rockets not used for a military purpose. Through a summit in May, the two allies agreed to completely scrap the restrictions, allowing full autonomy in South Korea's efforts to develop a space launch vehicle.\\n\\nAs quickly as 1993, South Korea was able to launch its first domestic rocket, but the first-stage solid-fuel rocket failed to reach orbit. In 2002, the first liquid-engine rocket, the KSR-3, was launched.\\n\\nIn 2013, after two failures and four delays between 2005 and 2010, the Naro rocket was successfully launched, settling the Naro Science Satellite in low orbit around Earth. Naro relied on Russia for major technologies, but the experience accumulated in the development process became the basis for technological independence.\\n\\nIn 2018, the launch of a test launch vehicle was successfully completed, verifying the performance of the 75-ton engine that would be used for the Nuri rocket.\\n\\nIn October last year, the first launch of the Nuri rocket was carried out. The Nuri, a three-stage liquid-engine rocket developed from domestic technology, successfully separated the first stage, fairing, and the second stage, but it failed to settle the satellite simulator on its orbit path. The second trial was originally scheduled for last Thursday, but it was delayed to Tuesday as a technical glitch was found right before the launch.\\n\\nWhat's next?\\n\\nThe country is also planning its first lunar orbit project, titled Danuri, slated to blast off on Aug. 2 from Florida. Danuri's objectives include identifying potential landing sites for future lunar missions, demonstrating and verifying space internet technologies and conducting scientific investigations of the environment, topography and resources on the moon.\\n\\nAfter the launch, the Danuri team will cooperate with NASA to follow a ballistic lunar transfer to enter the moon's 100-kilometer orbit by December. If Danuri's launch and missions are completed, South Korea will also become the seventh country in the world to have carried out a successful lunar probe mission.\\n\\nMarket experts also viewed that with the successful launch of Nuri, the government's plan to develop the Naro Space Center located in Goheung, South Jeolla Province -- 473 kilometers south of Seoul -- will get a boost.\\n\\nIn 2009, the Naro Space Center was established in Goheung for active, independent space development research, making it the 13th country in the world with a space center.\\n\\nBy 2031, the government intends to inject 892 billion won across 21 projects in seven sectors, such as the establishment of space development infrastructure, a space launch vehicle R&D center and a space theme park. It plans to land on the moon in the same year.\\n\\nCopyright: The Korea Herald/ Asia News Network\""
            ],
            "application/vnd.google.colaboratory.intrinsic+json": {
              "type": "string"
            }
          },
          "metadata": {},
          "execution_count": 6
        }
      ]
    },
    {
      "cell_type": "code",
      "source": [
        "import nltk\n",
        "nltk.download('punkt')\n"
      ],
      "metadata": {
        "colab": {
          "base_uri": "https://localhost:8080/"
        },
        "id": "_z00OkeiDVPH",
        "outputId": "daaf99be-4881-420c-ad29-0fb9a8a5f800"
      },
      "execution_count": null,
      "outputs": [
        {
          "output_type": "stream",
          "name": "stderr",
          "text": [
            "[nltk_data] Downloading package punkt to /root/nltk_data...\n",
            "[nltk_data]   Package punkt is already up-to-date!\n"
          ]
        },
        {
          "output_type": "execute_result",
          "data": {
            "text/plain": [
              "True"
            ]
          },
          "metadata": {},
          "execution_count": 7
        }
      ]
    },
    {
      "cell_type": "code",
      "source": [
        "article.nlp()"
      ],
      "metadata": {
        "id": "NfW_i9QQ3zmp"
      },
      "execution_count": null,
      "outputs": []
    },
    {
      "cell_type": "code",
      "source": [
        "article.keywords"
      ],
      "metadata": {
        "colab": {
          "base_uri": "https://localhost:8080/"
        },
        "id": "_NLgVxEDDo-5",
        "outputId": "074df5c4-c64d-4ee7-d2cb-26e63cca1c70"
      },
      "execution_count": null,
      "outputs": [
        {
          "output_type": "execute_result",
          "data": {
            "text/plain": [
              "['orbit',\n",
              " 'space',\n",
              " 'korea',\n",
              " 'satellite',\n",
              " 'join',\n",
              " 'elite',\n",
              " 'south',\n",
              " 'development',\n",
              " 'nation',\n",
              " 'nuri',\n",
              " 'rocket',\n",
              " '7th',\n",
              " 'naro',\n",
              " 'launch',\n",
              " 'club']"
            ]
          },
          "metadata": {},
          "execution_count": 9
        }
      ]
    },
    {
      "cell_type": "code",
      "source": [
        "article.summary"
      ],
      "metadata": {
        "colab": {
          "base_uri": "https://localhost:8080/",
          "height": 105
        },
        "id": "QK9nzvqo32O9",
        "outputId": "d50e9025-a8e7-4583-83b2-b19a364f094e"
      },
      "execution_count": null,
      "outputs": [
        {
          "output_type": "execute_result",
          "data": {
            "text/plain": [
              "\"The successful launch of South Korea's homegrown space rocket Nuri, officially the Korea Space Launch Vehicle-II, on Tuesday added the country as the seventh nation in the world to have developed a space launch vehicle that can carry a satellite of more than 1 ton.\\nA latecomerSouth Korea is a relative latecomer to the global space development race.\\nThe country's rocket development program had been restricted by 1979 bilateral missile guidelines from the US, which were reiterated in 1990.\\nIn 2009, the Naro Space Center was established in Goheung for active, independent space development research, making it the 13th country in the world with a space center.\\nBy 2031, the government intends to inject 892 billion won across 21 projects in seven sectors, such as the establishment of space development infrastructure, a space launch vehicle R&D center and a space theme park.\""
            ],
            "application/vnd.google.colaboratory.intrinsic+json": {
              "type": "string"
            }
          },
          "metadata": {},
          "execution_count": 10
        }
      ]
    }
  ]
}