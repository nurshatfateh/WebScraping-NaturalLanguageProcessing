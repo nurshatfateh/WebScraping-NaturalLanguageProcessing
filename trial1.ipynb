{
  "nbformat": 4,
  "nbformat_minor": 0,
  "metadata": {
    "colab": {
      "provenance": [],
      "collapsed_sections": [],
      "authorship_tag": "ABX9TyNoLjdMDTIwVnTSqESTdZGy",
      "include_colab_link": true
    },
    "kernelspec": {
      "name": "python3",
      "display_name": "Python 3"
    },
    "language_info": {
      "name": "python"
    }
  },
  "cells": [
    {
      "cell_type": "markdown",
      "metadata": {
        "id": "view-in-github",
        "colab_type": "text"
      },
      "source": [
        "<a href=\"https://colab.research.google.com/github/nurshatfateh/WebScraping-NaturalLanguageProcessing/blob/main/trial1.ipynb\" target=\"_parent\"><img src=\"https://colab.research.google.com/assets/colab-badge.svg\" alt=\"Open In Colab\"/></a>"
      ]
    },
    {
      "cell_type": "code",
      "execution_count": null,
      "metadata": {
        "id": "Mel9bjJwIxcp"
      },
      "outputs": [],
      "source": [
        "import requests\n",
        "import json\n",
        "import pandas\n",
        "import spacy\n",
        "from spacy.matcher import Matcher"
      ]
    },
    {
      "cell_type": "code",
      "source": [
        "!pip install newspaper3k"
      ],
      "metadata": {
        "colab": {
          "base_uri": "https://localhost:8080/"
        },
        "id": "0g1qMQDLI3Hh",
        "outputId": "e2b2da33-2b76-417b-e691-bcad719d27be"
      },
      "execution_count": null,
      "outputs": [
        {
          "output_type": "stream",
          "name": "stdout",
          "text": [
            "Looking in indexes: https://pypi.org/simple, https://us-python.pkg.dev/colab-wheels/public/simple/\n",
            "Requirement already satisfied: newspaper3k in /usr/local/lib/python3.7/dist-packages (0.2.8)\n",
            "Requirement already satisfied: PyYAML>=3.11 in /usr/local/lib/python3.7/dist-packages (from newspaper3k) (6.0)\n",
            "Requirement already satisfied: feedfinder2>=0.0.4 in /usr/local/lib/python3.7/dist-packages (from newspaper3k) (0.0.4)\n",
            "Requirement already satisfied: Pillow>=3.3.0 in /usr/local/lib/python3.7/dist-packages (from newspaper3k) (7.1.2)\n",
            "Requirement already satisfied: requests>=2.10.0 in /usr/local/lib/python3.7/dist-packages (from newspaper3k) (2.23.0)\n",
            "Requirement already satisfied: tldextract>=2.0.1 in /usr/local/lib/python3.7/dist-packages (from newspaper3k) (3.4.0)\n",
            "Requirement already satisfied: feedparser>=5.2.1 in /usr/local/lib/python3.7/dist-packages (from newspaper3k) (6.0.10)\n",
            "Requirement already satisfied: nltk>=3.2.1 in /usr/local/lib/python3.7/dist-packages (from newspaper3k) (3.7)\n",
            "Requirement already satisfied: cssselect>=0.9.2 in /usr/local/lib/python3.7/dist-packages (from newspaper3k) (1.1.0)\n",
            "Requirement already satisfied: lxml>=3.6.0 in /usr/local/lib/python3.7/dist-packages (from newspaper3k) (4.9.1)\n",
            "Requirement already satisfied: tinysegmenter==0.3 in /usr/local/lib/python3.7/dist-packages (from newspaper3k) (0.3)\n",
            "Requirement already satisfied: beautifulsoup4>=4.4.1 in /usr/local/lib/python3.7/dist-packages (from newspaper3k) (4.6.3)\n",
            "Requirement already satisfied: jieba3k>=0.35.1 in /usr/local/lib/python3.7/dist-packages (from newspaper3k) (0.35.1)\n",
            "Requirement already satisfied: python-dateutil>=2.5.3 in /usr/local/lib/python3.7/dist-packages (from newspaper3k) (2.8.2)\n",
            "Requirement already satisfied: six in /usr/local/lib/python3.7/dist-packages (from feedfinder2>=0.0.4->newspaper3k) (1.15.0)\n",
            "Requirement already satisfied: sgmllib3k in /usr/local/lib/python3.7/dist-packages (from feedparser>=5.2.1->newspaper3k) (1.0.0)\n",
            "Requirement already satisfied: regex>=2021.8.3 in /usr/local/lib/python3.7/dist-packages (from nltk>=3.2.1->newspaper3k) (2022.6.2)\n",
            "Requirement already satisfied: joblib in /usr/local/lib/python3.7/dist-packages (from nltk>=3.2.1->newspaper3k) (1.2.0)\n",
            "Requirement already satisfied: tqdm in /usr/local/lib/python3.7/dist-packages (from nltk>=3.2.1->newspaper3k) (4.64.1)\n",
            "Requirement already satisfied: click in /usr/local/lib/python3.7/dist-packages (from nltk>=3.2.1->newspaper3k) (7.1.2)\n",
            "Requirement already satisfied: urllib3!=1.25.0,!=1.25.1,<1.26,>=1.21.1 in /usr/local/lib/python3.7/dist-packages (from requests>=2.10.0->newspaper3k) (1.24.3)\n",
            "Requirement already satisfied: certifi>=2017.4.17 in /usr/local/lib/python3.7/dist-packages (from requests>=2.10.0->newspaper3k) (2022.9.24)\n",
            "Requirement already satisfied: chardet<4,>=3.0.2 in /usr/local/lib/python3.7/dist-packages (from requests>=2.10.0->newspaper3k) (3.0.4)\n",
            "Requirement already satisfied: idna<3,>=2.5 in /usr/local/lib/python3.7/dist-packages (from requests>=2.10.0->newspaper3k) (2.10)\n",
            "Requirement already satisfied: requests-file>=1.4 in /usr/local/lib/python3.7/dist-packages (from tldextract>=2.0.1->newspaper3k) (1.5.1)\n",
            "Requirement already satisfied: filelock>=3.0.8 in /usr/local/lib/python3.7/dist-packages (from tldextract>=2.0.1->newspaper3k) (3.8.0)\n"
          ]
        }
      ]
    },
    {
      "cell_type": "code",
      "source": [
        "import newspaper\n",
        "from newspaper import Article"
      ],
      "metadata": {
        "id": "0GsQx0-VI4d9"
      },
      "execution_count": null,
      "outputs": []
    },
    {
      "cell_type": "code",
      "source": [
        "nlp = spacy.load('en_core_web_sm')"
      ],
      "metadata": {
        "id": "DaI0AF0LI5fh"
      },
      "execution_count": null,
      "outputs": []
    },
    {
      "cell_type": "code",
      "source": [
        "def extract_article_from_url(url):\n",
        "  a = Article(url)\n",
        "  a.download()\n",
        "  a.parse()\n",
        "  return a.text, a.publish_date"
      ],
      "metadata": {
        "id": "zg-FkTY3I6nk"
      },
      "execution_count": null,
      "outputs": []
    },
    {
      "cell_type": "code",
      "source": [
        "def sentence_giver(doc, start, end):\n",
        "  s = start\n",
        "  while str(doc[s]) != '.':\n",
        "    s = s - 1\n",
        "    if s < 0:\n",
        "      break\n",
        "  e = end\n",
        "  while str(doc[e]) != '.':\n",
        "    e = e + 1\n",
        "    if e > len(doc) - 1:\n",
        "      break\n",
        "  return str(doc[s+1:e])"
      ],
      "metadata": {
        "id": "SZzZ5ijpI7yV"
      },
      "execution_count": null,
      "outputs": []
    },
    {
      "cell_type": "code",
      "source": [
        "def location_finder(doc):\n",
        "  locations = []\n",
        "  sentences = []\n",
        "  matcher = Matcher(nlp.vocab)\n",
        "  pattern = [{\"ENT_TYPE\": \"GPE\"}]\n",
        "  matcher.add(\"Location\", [pattern])\n",
        "  matches = matcher(doc)\n",
        "  for match_id, start, end in matches:\n",
        "    sentence = sentence_giver(doc, start, end)\n",
        "    value = l_detail_filter(sentence)\n",
        "    if value == 1:\n",
        "      sentences.append(sentence)\n",
        "      locations.append(doc[start:end])\n",
        "  return locations, sentences"
      ],
      "metadata": {
        "id": "8mMvCausI8-s"
      },
      "execution_count": null,
      "outputs": []
    },
    {
      "cell_type": "code",
      "source": [
        "def l_detail_filter(data):\n",
        "  data = nlp(data)\n",
        "  matcher = Matcher(nlp.vocab)\n",
        "  pattern1 = [{\"LOWER\": \"accident\"}]\n",
        "  matcher.add(\"L_Filter\", [pattern1])\n",
        "  matches = matcher(data)\n",
        "  if len(matches) == 0:\n",
        "    return 0\n",
        "  else:\n",
        "    return 1"
      ],
      "metadata": {
        "id": "tt29jDFuJ7kE"
      },
      "execution_count": null,
      "outputs": []
    },
    {
      "cell_type": "code",
      "source": [
        "def number_finder(doc):\n",
        "  numbers = []\n",
        "  sentences = []\n",
        "  matcher = Matcher(nlp.vocab)\n",
        "  pattern = [{\"LIKE_NUM\": True}]\n",
        "  matcher.add(\"Number\", [pattern])\n",
        "  matches = matcher(doc)\n",
        "  for match_id, start, end in matches:\n",
        "    sentence = sentence_giver(doc, start, end)\n",
        "    value = n_detail_filter(sentence)\n",
        "    if value == 1:\n",
        "      sentences.append(sentence)\n",
        "      numbers.append(str(doc[start:end]))\n",
        "  return numbers, sentences"
      ],
      "metadata": {
        "id": "okT1kQtyJkux"
      },
      "execution_count": null,
      "outputs": []
    },
    {
      "cell_type": "code",
      "source": [
        "def n_detail_filter(data):\n",
        "  data = nlp(data)\n",
        "  matcher = Matcher(nlp.vocab)\n",
        "  pattern1 = [{\"LOWER\": \"killed\"}]\n",
        "  matcher.add(\"N_Filter\", [pattern1])\n",
        "  matches = matcher(data)\n",
        "  if len(matches) == 0:\n",
        "    return 0\n",
        "  else:\n",
        "    return 1"
      ],
      "metadata": {
        "id": "1uVEO_pKJ5cA"
      },
      "execution_count": null,
      "outputs": []
    },
    {
      "cell_type": "code",
      "source": [
        "link = 'https://www.ndtv.com/india-news/9-killed-in-keralas-palakkad-after-bus-carrying-school-students-crashes-into-state-transport-bus-3406641'\n",
        "content, date = extract_article_from_url(link)\n",
        "doc = nlp(content)"
      ],
      "metadata": {
        "id": "o3Nq38i3JAKV"
      },
      "execution_count": null,
      "outputs": []
    },
    {
      "cell_type": "code",
      "source": [
        "l_places, l_s = location_finder(doc)\n",
        "print(l_places[0])\n",
        "print(l_s)"
      ],
      "metadata": {
        "colab": {
          "base_uri": "https://localhost:8080/"
        },
        "id": "ldGP7Xq4JBbd",
        "outputId": "24cbe393-ab6d-43fc-89cb-bbaa53aabc91"
      },
      "execution_count": null,
      "outputs": [
        {
          "output_type": "stream",
          "name": "stdout",
          "text": [
            "Kerala\n",
            "['Kerala bus accident: Around 40 people were also injured in the crash, police said', '\\n\\nHe said the KSRTC bus was going from Kottarakkara in Kerala to Coimbatore in Tamil Nadu and had 81 passengers, of whom three died in the accident', '\\n\\nHe said the KSRTC bus was going from Kottarakkara in Kerala to Coimbatore in Tamil Nadu and had 81 passengers, of whom three died in the accident']\n"
          ]
        }
      ]
    },
    {
      "cell_type": "code",
      "source": [
        "n_people, n_s = number_finder(doc)\n",
        "print(n_people[0])\n",
        "print(n_s)"
      ],
      "metadata": {
        "colab": {
          "base_uri": "https://localhost:8080/"
        },
        "id": "v-H2wz_1JzJQ",
        "outputId": "15bda35d-bec2-4c17-8ee5-95fddb886345"
      },
      "execution_count": null,
      "outputs": [
        {
          "output_type": "stream",
          "name": "stdout",
          "text": [
            "Nine\n",
            "[\"\\n\\nNine people, including five students, were killed after a private tourist bus hit a state-run KSRTC bus from behind at Vadakkenchery in Kerala's Palakkad, Kerala Road Transport Minister Antony Raju said on Thursday\", \"\\n\\nNine people, including five students, were killed after a private tourist bus hit a state-run KSRTC bus from behind at Vadakkenchery in Kerala's Palakkad, Kerala Road Transport Minister Antony Raju said on Thursday\", 'Nine persons, including five students and a teacher, were killed in the accident,\" he told the media', 'Nine persons, including five students and a teacher, were killed in the accident,\" he told the media']\n"
          ]
        }
      ]
    }
  ]
}