{
  "nbformat": 4,
  "nbformat_minor": 0,
  "metadata": {
    "colab": {
      "name": "nurshat_4_feature_analysis.ipynb",
      "provenance": [],
      "authorship_tag": "ABX9TyMMS5uFmLpKCXu1HgBuBVi3",
      "include_colab_link": true
    },
    "kernelspec": {
      "name": "python3",
      "display_name": "Python 3"
    },
    "language_info": {
      "name": "python"
    }
  },
  "cells": [
    {
      "cell_type": "markdown",
      "metadata": {
        "id": "view-in-github",
        "colab_type": "text"
      },
      "source": [
        "<a href=\"https://colab.research.google.com/github/nurshatfateh/WebScraping-NaturalLanguageProcessing/blob/main/nurshat_4_feature_analysis.ipynb\" target=\"_parent\"><img src=\"https://colab.research.google.com/assets/colab-badge.svg\" alt=\"Open In Colab\"/></a>"
      ]
    },
    {
      "cell_type": "markdown",
      "source": [
        "DESCRIPTION: Named Entity Recognition using NLTK."
      ],
      "metadata": {
        "id": "6TWutBOTVb4F"
      }
    },
    {
      "cell_type": "markdown",
      "source": [
        "Collecting News\n",
        "\n",
        "\n",
        "\n"
      ],
      "metadata": {
        "id": "2UBeqbomJXfV"
      }
    },
    {
      "cell_type": "code",
      "source": [
        "pip install newscatcherapi"
      ],
      "metadata": {
        "colab": {
          "base_uri": "https://localhost:8080/"
        },
        "id": "Rlag3COQLK90",
        "outputId": "670c5251-c9da-4d66-bc13-e3f308acf747"
      },
      "execution_count": 117,
      "outputs": [
        {
          "output_type": "stream",
          "name": "stdout",
          "text": [
            "Looking in indexes: https://pypi.org/simple, https://us-python.pkg.dev/colab-wheels/public/simple/\n",
            "Requirement already satisfied: newscatcherapi in /usr/local/lib/python3.7/dist-packages (0.7.1)\n",
            "Requirement already satisfied: requests>=2.24.0 in /usr/local/lib/python3.7/dist-packages (from newscatcherapi) (2.28.1)\n",
            "Requirement already satisfied: dateparser>=0.7.6 in /usr/local/lib/python3.7/dist-packages (from newscatcherapi) (1.1.1)\n",
            "Requirement already satisfied: pytz in /usr/local/lib/python3.7/dist-packages (from dateparser>=0.7.6->newscatcherapi) (2022.1)\n",
            "Requirement already satisfied: tzlocal in /usr/local/lib/python3.7/dist-packages (from dateparser>=0.7.6->newscatcherapi) (1.5.1)\n",
            "Requirement already satisfied: regex!=2019.02.19,!=2021.8.27,<2022.3.15 in /usr/local/lib/python3.7/dist-packages (from dateparser>=0.7.6->newscatcherapi) (2022.3.2)\n",
            "Requirement already satisfied: python-dateutil in /usr/local/lib/python3.7/dist-packages (from dateparser>=0.7.6->newscatcherapi) (2.8.2)\n",
            "Requirement already satisfied: idna<4,>=2.5 in /usr/local/lib/python3.7/dist-packages (from requests>=2.24.0->newscatcherapi) (2.10)\n",
            "Requirement already satisfied: urllib3<1.27,>=1.21.1 in /usr/local/lib/python3.7/dist-packages (from requests>=2.24.0->newscatcherapi) (1.24.3)\n",
            "Requirement already satisfied: certifi>=2017.4.17 in /usr/local/lib/python3.7/dist-packages (from requests>=2.24.0->newscatcherapi) (2022.6.15)\n",
            "Requirement already satisfied: charset-normalizer<3,>=2 in /usr/local/lib/python3.7/dist-packages (from requests>=2.24.0->newscatcherapi) (2.1.0)\n",
            "Requirement already satisfied: six>=1.5 in /usr/local/lib/python3.7/dist-packages (from python-dateutil->dateparser>=0.7.6->newscatcherapi) (1.15.0)\n"
          ]
        }
      ]
    },
    {
      "cell_type": "code",
      "source": [
        "from newscatcherapi import NewsCatcherApiClient\n",
        "newscatcherapi=NewsCatcherApiClient(x_api_key='dZ7A2uDos9MoJE-eyzomyvKBcUvwQrIhie6ImTnbKc8')\n",
        "collection = newscatcherapi.get_search_all_pages(q='Road Accident',\n",
        "                                         lang='en',\n",
        "                                         countries='BD',\n",
        "                                         )\n",
        "                                "
      ],
      "metadata": {
        "colab": {
          "base_uri": "https://localhost:8080/"
        },
        "id": "IFp2PRPT8Xt5",
        "outputId": "3a1f85dc-434b-430d-e4e4-c77fe56e83d8"
      },
      "execution_count": 118,
      "outputs": [
        {
          "output_type": "stream",
          "name": "stdout",
          "text": [
            "1 page is going to be extracted\n",
            "Total number of found articles => 81.\n",
            "Total number of pages 1.\n"
          ]
        }
      ]
    },
    {
      "cell_type": "markdown",
      "source": [
        "Working with Articles\n"
      ],
      "metadata": {
        "id": "DFMZpAm8Jokz"
      }
    },
    {
      "cell_type": "code",
      "source": [
        "pip install newspaper3k"
      ],
      "metadata": {
        "colab": {
          "base_uri": "https://localhost:8080/"
        },
        "id": "h7PHD_i1LNcs",
        "outputId": "196aac65-1c84-4821-beff-6768c0af2abc"
      },
      "execution_count": 119,
      "outputs": [
        {
          "output_type": "stream",
          "name": "stdout",
          "text": [
            "Looking in indexes: https://pypi.org/simple, https://us-python.pkg.dev/colab-wheels/public/simple/\n",
            "Requirement already satisfied: newspaper3k in /usr/local/lib/python3.7/dist-packages (0.2.8)\n",
            "Requirement already satisfied: feedparser>=5.2.1 in /usr/local/lib/python3.7/dist-packages (from newspaper3k) (6.0.10)\n",
            "Requirement already satisfied: PyYAML>=3.11 in /usr/local/lib/python3.7/dist-packages (from newspaper3k) (3.13)\n",
            "Requirement already satisfied: cssselect>=0.9.2 in /usr/local/lib/python3.7/dist-packages (from newspaper3k) (1.1.0)\n",
            "Requirement already satisfied: tinysegmenter==0.3 in /usr/local/lib/python3.7/dist-packages (from newspaper3k) (0.3)\n",
            "Requirement already satisfied: nltk>=3.2.1 in /usr/local/lib/python3.7/dist-packages (from newspaper3k) (3.7)\n",
            "Requirement already satisfied: tldextract>=2.0.1 in /usr/local/lib/python3.7/dist-packages (from newspaper3k) (3.3.1)\n",
            "Requirement already satisfied: jieba3k>=0.35.1 in /usr/local/lib/python3.7/dist-packages (from newspaper3k) (0.35.1)\n",
            "Requirement already satisfied: feedfinder2>=0.0.4 in /usr/local/lib/python3.7/dist-packages (from newspaper3k) (0.0.4)\n",
            "Requirement already satisfied: python-dateutil>=2.5.3 in /usr/local/lib/python3.7/dist-packages (from newspaper3k) (2.8.2)\n",
            "Requirement already satisfied: requests>=2.10.0 in /usr/local/lib/python3.7/dist-packages (from newspaper3k) (2.28.1)\n",
            "Requirement already satisfied: lxml>=3.6.0 in /usr/local/lib/python3.7/dist-packages (from newspaper3k) (4.2.6)\n",
            "Requirement already satisfied: beautifulsoup4>=4.4.1 in /usr/local/lib/python3.7/dist-packages (from newspaper3k) (4.6.3)\n",
            "Requirement already satisfied: Pillow>=3.3.0 in /usr/local/lib/python3.7/dist-packages (from newspaper3k) (7.1.2)\n",
            "Requirement already satisfied: six in /usr/local/lib/python3.7/dist-packages (from feedfinder2>=0.0.4->newspaper3k) (1.15.0)\n",
            "Requirement already satisfied: sgmllib3k in /usr/local/lib/python3.7/dist-packages (from feedparser>=5.2.1->newspaper3k) (1.0.0)\n",
            "Requirement already satisfied: tqdm in /usr/local/lib/python3.7/dist-packages (from nltk>=3.2.1->newspaper3k) (4.64.0)\n",
            "Requirement already satisfied: click in /usr/local/lib/python3.7/dist-packages (from nltk>=3.2.1->newspaper3k) (7.1.2)\n",
            "Requirement already satisfied: regex>=2021.8.3 in /usr/local/lib/python3.7/dist-packages (from nltk>=3.2.1->newspaper3k) (2022.3.2)\n",
            "Requirement already satisfied: joblib in /usr/local/lib/python3.7/dist-packages (from nltk>=3.2.1->newspaper3k) (1.1.0)\n",
            "Requirement already satisfied: certifi>=2017.4.17 in /usr/local/lib/python3.7/dist-packages (from requests>=2.10.0->newspaper3k) (2022.6.15)\n",
            "Requirement already satisfied: charset-normalizer<3,>=2 in /usr/local/lib/python3.7/dist-packages (from requests>=2.10.0->newspaper3k) (2.1.0)\n",
            "Requirement already satisfied: idna<4,>=2.5 in /usr/local/lib/python3.7/dist-packages (from requests>=2.10.0->newspaper3k) (2.10)\n",
            "Requirement already satisfied: urllib3<1.27,>=1.21.1 in /usr/local/lib/python3.7/dist-packages (from requests>=2.10.0->newspaper3k) (1.24.3)\n",
            "Requirement already satisfied: filelock>=3.0.8 in /usr/local/lib/python3.7/dist-packages (from tldextract>=2.0.1->newspaper3k) (3.7.1)\n",
            "Requirement already satisfied: requests-file>=1.4 in /usr/local/lib/python3.7/dist-packages (from tldextract>=2.0.1->newspaper3k) (1.5.1)\n"
          ]
        }
      ]
    },
    {
      "cell_type": "code",
      "source": [
        "import pandas as pd\n",
        "from newspaper import Article\n",
        "link=collection['articles'][0]['link']\n",
        "article=Article(link)\n",
        "article.download()\n",
        "article.parse()\n",
        "print(article.text)"
      ],
      "metadata": {
        "colab": {
          "base_uri": "https://localhost:8080/"
        },
        "id": "yg6J97UyAl4g",
        "outputId": "e45f9f5e-c7e5-4169-a308-c627692c9a26"
      },
      "execution_count": 124,
      "outputs": [
        {
          "output_type": "stream",
          "name": "stdout",
          "text": [
            "The number of road accidents and related casualties during the Eid-ul-Azha holidays declined drastically this year due to the inter-district ban on motorcycles, according to experts.\n",
            "\n",
            "Fifteen people were killed in road accidents, including ones involving motorcycles, from 9 July to 12 July.\n",
            "\n",
            "During the four-day Eid-ul-Fitr vacation, at least 60 victims of motorcycle accidents died at the National Institute of Traumatology and Orthopaedic Rehabilitation (Nitor), known as Pangu Hospital, in Dhaka. But the hospital authorities said they did not receive any during the three-day Eid-ul-Azha holidays.\n",
            "\n",
            "According to Nitor sources, 64 patients who were injured in motorcycle accidents during this Eid came to the hospital for treatment. According to Nitor's Dr Jibanananda Halder, who was on duty during the Eid holidays, the number \"seems to have dropped by more than half\". He said, \"No injured motorcyclist has died at the hospital so far.\"\n",
            "\n",
            "More than 800 injured bikers sought treatment during Eid-ul-Fitr.\n",
            "\n",
            "Another 20 injured victims of road accidents involving other vehicles also came to the hospital this time around, sources said.\n",
            "\n",
            "Nitor's Director Abdul Gani Mollah said, \"The number of injured in accidents, involving other vehicles and sacrificial animals, was higher this time.\"\n",
            "\n",
            "Professor Dr Md Hadiuzzaman, director of the Accident Research Institute (ARI) at Buet, told The Business Standard, \"Stopping motorcycles on the highways during Eid will surely reduce accidents and deaths – this is something we have been demanding for a long time.\"\n",
            "\n",
            "However, the risk of accidents involving other vehicles during Eid is still high. Besides, there was severe traffic congestion on the highways, especially on the Dhaka-Tangail-Bangabandhu Bridge Highway, and a lack of public transport, he said.\n",
            "\n",
            "\"If the government had announced holidays four days before and four days after Eid, then passengers' sufferings would have been greatly reduced. It would have saved people both time and money,\" the Buet professor added.\n",
            "\n",
            "A crisis in public transports has been witnessed during this Eid season. Apart from inadequate transports, holidaymakers had to endure exorbitant ticket fares, highway gridlocks and schedule disruptions of trains and buses.\n",
            "\n",
            "According to the Road Safety Foundation, 249 people were killed in 178 road accidents across the country from 25 April to 5 May.\n",
            "\n",
            "Among the deceased, 97 were motorcyclists, which is 38.59% of the total number of victims. Of the deceased motorcyclists, 51 victims were aged between 15 and 20. In other words, 58% of those killed in motorcycle accidents were minors.\n",
            "\n",
            "According to the Bangladesh Jatri Kalyan Samity [Bangladesh Passenger Welfare Association], some 139 people were killed and 199 injured in 144 motorcycle accidents during the last Eid-ul-Fitr, which was 45.28% of all road accidents, 43.03% of the total number of deaths and 31.99% of the total number of injured.\n",
            "\n",
            "A total of 418 people were killed in 362 road accidents during the last Eid, according to the organisation.\n",
            "\n",
            "Mozammel Hoque Chowdhury, secretary-general of Jatri Kalyan Samity, told TBS, \"Generally, we take into account accidents that occur in the 14 days centering on Eid - seven days before and seven days after. But overall, it seems that the total number of accidents will be less this time as the number of motorcycle accidents has come down.\"\n",
            "\n",
            "According to data from the Accident Research Institute (ARI) of Buet, around 1,097 people died in motorcycle accidents around the country in 2020, while another 423 got injured.\n",
            "\n",
            "The total number of fatalities caused by all types of accidents in 2020 was 3,558 – meaning 30% of fatalities on the road were caused by motorcycle accidents that year.\n",
            "\n",
            "In 2016, the number of deaths from motorcycle accidents in the country was 336.\n",
            "\n",
            "More than 4,000 people died from motorcycle accidents in Bangladesh in the last five years, according to research presented at the 100th annual meeting of the Transportation Research Board (TRB) in Washington DC last year.\n",
            "\n",
            "The study also found that almost half of the country's motorcyclists are at risk of fatal accidents as they do not adhere to traffic rules and regulations on the roads.\n",
            "\n",
            "Terming the trend of changing lanes frequently as alarming, the TRB research has predicted that the number of accidents may increase in future.\n",
            "\n",
            "According to the Directorate General of Health Services, an average of 15 people die and more than hundreds become paralysed every day in road accidents in the country.\n"
          ]
        }
      ]
    },
    {
      "cell_type": "markdown",
      "source": [
        "Approach 1 - Article analysis\n"
      ],
      "metadata": {
        "id": "F9s8zq3xFSLq"
      }
    },
    {
      "cell_type": "code",
      "source": [
        "pip install nltk"
      ],
      "metadata": {
        "colab": {
          "base_uri": "https://localhost:8080/"
        },
        "id": "yke1PtA4LSIX",
        "outputId": "44146c23-ade5-4ef6-a894-bdc362aa326b"
      },
      "execution_count": 125,
      "outputs": [
        {
          "output_type": "stream",
          "name": "stdout",
          "text": [
            "Looking in indexes: https://pypi.org/simple, https://us-python.pkg.dev/colab-wheels/public/simple/\n",
            "Requirement already satisfied: nltk in /usr/local/lib/python3.7/dist-packages (3.7)\n",
            "Requirement already satisfied: click in /usr/local/lib/python3.7/dist-packages (from nltk) (7.1.2)\n",
            "Requirement already satisfied: joblib in /usr/local/lib/python3.7/dist-packages (from nltk) (1.1.0)\n",
            "Requirement already satisfied: regex>=2021.8.3 in /usr/local/lib/python3.7/dist-packages (from nltk) (2022.3.2)\n",
            "Requirement already satisfied: tqdm in /usr/local/lib/python3.7/dist-packages (from nltk) (4.64.0)\n"
          ]
        }
      ]
    },
    {
      "cell_type": "code",
      "source": [
        "import nltk\n",
        "print(collection['articles'][0]['published_date'])\n",
        "sentence = article.text\n",
        "for sent in nltk.sent_tokenize(sentence):\n",
        "  for chunk in nltk.ne_chunk(nltk.pos_tag(nltk.word_tokenize(sent))):\n",
        "     if hasattr(chunk, 'label'):\n",
        "        print(chunk.label(), ' <---------- ', ' '.join(c[0] for c in chunk))"
      ],
      "metadata": {
        "colab": {
          "base_uri": "https://localhost:8080/"
        },
        "id": "h45A1sMEBUqt",
        "outputId": "63f2eea1-4b1c-4414-a752-d9108dcce547"
      },
      "execution_count": 126,
      "outputs": [
        {
          "output_type": "stream",
          "name": "stdout",
          "text": [
            "2022-07-12 16:00:00\n",
            "GPE  <----------  Fifteen\n",
            "ORGANIZATION  <----------  National Institute\n",
            "ORGANIZATION  <----------  Traumatology\n",
            "PERSON  <----------  Orthopaedic Rehabilitation\n",
            "PERSON  <----------  Pangu Hospital\n",
            "GPE  <----------  Dhaka\n",
            "GPE  <----------  Nitor\n",
            "PERSON  <----------  Nitor\n",
            "ORGANIZATION  <----------  Eid\n",
            "PERSON  <----------  Nitor\n",
            "PERSON  <----------  Abdul Gani Mollah\n",
            "ORGANIZATION  <----------  Accident Research Institute\n",
            "ORGANIZATION  <----------  ARI\n",
            "ORGANIZATION  <----------  Buet\n",
            "ORGANIZATION  <----------  Business Standard\n",
            "PERSON  <----------  Eid\n",
            "PERSON  <----------  Eid\n",
            "PERSON  <----------  Eid\n",
            "ORGANIZATION  <----------  Buet\n",
            "ORGANIZATION  <----------  Road Safety Foundation\n",
            "ORGANIZATION  <----------  Bangladesh Jatri Kalyan Samity\n",
            "PERSON  <----------  Mozammel\n",
            "PERSON  <----------  Hoque Chowdhury\n",
            "PERSON  <----------  Jatri Kalyan Samity\n",
            "ORGANIZATION  <----------  TBS\n",
            "ORGANIZATION  <----------  Eid\n",
            "ORGANIZATION  <----------  Accident Research Institute\n",
            "ORGANIZATION  <----------  ARI\n",
            "GPE  <----------  Buet\n",
            "GPE  <----------  Bangladesh\n",
            "ORGANIZATION  <----------  Transportation\n",
            "ORGANIZATION  <----------  TRB\n",
            "GPE  <----------  Washington\n",
            "ORGANIZATION  <----------  TRB\n",
            "ORGANIZATION  <----------  Directorate\n",
            "PERSON  <----------  Health Services\n"
          ]
        }
      ]
    },
    {
      "cell_type": "markdown",
      "source": [
        "Approach 2 - Article analysis"
      ],
      "metadata": {
        "id": "fmRjW0jOFZvW"
      }
    },
    {
      "cell_type": "code",
      "source": [
        "import spacy \n",
        "nlp = spacy.load('en_core_web_sm')\n",
        "sentence = article.text\n",
        "doc = nlp(sentence)\n",
        "for ent in doc.ents:\n",
        "    print(ent.text,' -------------> ',ent.label_)"
      ],
      "metadata": {
        "colab": {
          "base_uri": "https://localhost:8080/"
        },
        "id": "_LSCai3WDXI7",
        "outputId": "96e9ac45-432e-43db-e92f-927aeeb4f691"
      },
      "execution_count": 127,
      "outputs": [
        {
          "output_type": "stream",
          "name": "stdout",
          "text": [
            "this year  ------------->  DATE\n",
            "9 July to 12 July  ------------->  DATE\n",
            "four-day  ------------->  DATE\n",
            "at least 60  ------------->  CARDINAL\n",
            "the National Institute of Traumatology  ------------->  ORG\n",
            "Orthopaedic Rehabilitation  ------------->  ORG\n",
            "Pangu Hospital  ------------->  ORG\n",
            "Dhaka  ------------->  ORG\n",
            "three-day  ------------->  DATE\n",
            "64  ------------->  CARDINAL\n",
            "Jibanananda Halder  ------------->  PERSON\n",
            "the Eid holidays  ------------->  DATE\n",
            "more than half  ------------->  CARDINAL\n",
            "More than 800  ------------->  CARDINAL\n",
            "20  ------------->  CARDINAL\n",
            "Abdul Gani  ------------->  PERSON\n",
            "Mollah  ------------->  PERSON\n",
            "Dr Md Hadiuzzaman  ------------->  PERSON\n",
            "the Accident Research Institute  ------------->  ORG\n",
            "Buet  ------------->  ORG\n",
            "The Business Standard  ------------->  ORG\n",
            "Eid  ------------->  DATE\n",
            "Eid  ------------->  DATE\n",
            "Dhaka  ------------->  ORG\n",
            "four days  ------------->  DATE\n",
            "four days  ------------->  DATE\n",
            "Eid  ------------->  DATE\n",
            "Buet  ------------->  ORG\n",
            "this Eid season  ------------->  DATE\n",
            "the Road Safety Foundation  ------------->  ORG\n",
            "249  ------------->  CARDINAL\n",
            "178  ------------->  CARDINAL\n",
            "25 April to 5 May  ------------->  DATE\n",
            "97  ------------->  CARDINAL\n",
            "38.59%  ------------->  PERCENT\n",
            "51  ------------->  CARDINAL\n",
            "between 15 and 20  ------------->  DATE\n",
            "58%  ------------->  PERCENT\n",
            "the Bangladesh Jatri Kalyan Samity  ------------->  ORG\n",
            "139  ------------->  CARDINAL\n",
            "199  ------------->  CARDINAL\n",
            "45.28%  ------------->  PERCENT\n",
            "43.03%  ------------->  PERCENT\n",
            "31.99%  ------------->  PERCENT\n",
            "418  ------------->  CARDINAL\n",
            "362  ------------->  CARDINAL\n",
            "the last Eid  ------------->  DATE\n",
            "Mozammel Hoque Chowdhury  ------------->  PERSON\n",
            "Jatri Kalyan Samity  ------------->  PERSON\n",
            "the 14 days  ------------->  DATE\n",
            "Eid - seven days before and seven days  ------------->  DATE\n",
            "the Accident Research Institute  ------------->  ORG\n",
            "Buet  ------------->  ORG\n",
            "1,097  ------------->  CARDINAL\n",
            "2020  ------------->  DATE\n",
            "423  ------------->  CARDINAL\n",
            "2020  ------------->  DATE\n",
            "3,558  ------------->  CARDINAL\n",
            "30%  ------------->  PERCENT\n",
            "that year  ------------->  DATE\n",
            "2016  ------------->  DATE\n",
            "336  ------------->  CARDINAL\n",
            "More than 4,000  ------------->  CARDINAL\n",
            "Bangladesh  ------------->  GPE\n",
            "the last five years  ------------->  DATE\n",
            "100th  ------------->  ORDINAL\n",
            "annual  ------------->  DATE\n",
            "the Transportation Research Board  ------------->  ORG\n",
            "TRB  ------------->  ORG\n",
            "Washington DC  ------------->  GPE\n",
            "last year  ------------->  DATE\n",
            "almost half  ------------->  CARDINAL\n",
            "TRB  ------------->  ORG\n",
            "the Directorate General of Health Services  ------------->  ORG\n",
            "15  ------------->  CARDINAL\n",
            "more than hundreds  ------------->  CARDINAL\n",
            "every day  ------------->  DATE\n"
          ]
        }
      ]
    },
    {
      "cell_type": "code",
      "source": [
        ""
      ],
      "metadata": {
        "id": "gK_o66RPVaEN"
      },
      "execution_count": null,
      "outputs": []
    },
    {
      "cell_type": "markdown",
      "source": [
        ""
      ],
      "metadata": {
        "id": "pZKxE2v7KIGS"
      }
    }
  ]
}